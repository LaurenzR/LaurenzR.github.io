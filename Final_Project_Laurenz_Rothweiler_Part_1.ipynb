{
  "nbformat": 4,
  "nbformat_minor": 0,
  "metadata": {
    "colab": {
      "name": "Final Project Laurenz Rothweiler Part 1",
      "version": "0.3.2",
      "provenance": [],
      "toc_visible": true,
      "include_colab_link": true
    },
    "kernelspec": {
      "name": "python3",
      "display_name": "Python 3"
    }
  },
  "cells": [
    {
      "cell_type": "markdown",
      "metadata": {
        "id": "view-in-github",
        "colab_type": "text"
      },
      "source": [
        "<a href=\"https://colab.research.google.com/github/LaurenzR/LaurenzR.github.io/blob/master/Final_Project_Laurenz_Rothweiler_Part_1.ipynb\" target=\"_parent\"><img src=\"https://colab.research.google.com/assets/colab-badge.svg\" alt=\"Open In Colab\"/></a>"
      ]
    },
    {
      "cell_type": "markdown",
      "metadata": {
        "id": "KWNaFmsXjhON",
        "colab_type": "text"
      },
      "source": [
        "# Citibike Analysis"
      ]
    },
    {
      "cell_type": "markdown",
      "metadata": {
        "id": "454qRaYl_Tv_",
        "colab_type": "text"
      },
      "source": [
        "# Intro"
      ]
    },
    {
      "cell_type": "markdown",
      "metadata": {
        "id": "6US7aKp87Xle",
        "colab_type": "text"
      },
      "source": [
        "I am a Citibike user myself, and I find the data aspect of this fascinating. Data can help in balancing the system (making sure there are enough bikes and empty docks at each station), something that is very important for all Citibike users, whether they are interested in the data or not.\n",
        "\n",
        "So I decided to have a closer look at that data.\n",
        "\n",
        "---\n",
        "\n",
        "\n",
        "\n",
        "A very quick look at the data shows that trips taken by men (shown in blue) far outnumber the trips taken by women (shown in orange), so that is certainly one thing I would like to investigate further:"
      ]
    },
    {
      "cell_type": "code",
      "metadata": {
        "id": "7IyQkG63kDR2",
        "colab_type": "code",
        "outputId": "21c0589f-bd40-422a-c1a4-2b5ec1e830a0",
        "colab": {
          "base_uri": "https://localhost:8080/",
          "height": 272
        }
      },
      "source": [
        "import pandas as pd\n",
        "import matplotlib.pyplot as plt\n",
        "tripdata01 = pd.read_csv('201801-citibike-tripdata.csv')\n",
        "tripdata01['gender'].value_counts().plot(kind='pie')"
      ],
      "execution_count": 0,
      "outputs": [
        {
          "output_type": "execute_result",
          "data": {
            "text/plain": [
              "<matplotlib.axes._subplots.AxesSubplot at 0x7f25da307390>"
            ]
          },
          "metadata": {
            "tags": []
          },
          "execution_count": 1
        },
        {
          "output_type": "display_data",
          "data": {
            "image/png": "[encoded data removed]",
            "text/plain": [
              "<Figure size 432x288 with 1 Axes>"
            ]
          },
          "metadata": {
            "tags": []
          }
        }
      ]
    },
    {
      "cell_type": "markdown",
      "metadata": {
        "id": "Z-NcTLne_asc",
        "colab_type": "text"
      },
      "source": [
        "# Loading, combining and cleansing the dataset"
      ]
    },
    {
      "cell_type": "markdown",
      "metadata": {
        "id": "OX0Vx5Nfu3G4",
        "colab_type": "text"
      },
      "source": [
        "## Loading"
      ]
    },
    {
      "cell_type": "markdown",
      "metadata": {
        "id": "tJUFiQ8__9wt",
        "colab_type": "text"
      },
      "source": [
        "Let's look at a full year of data, since the data fluctuates quite a bit over the course of a year due to seasonality.\n",
        "\n",
        "I am loading all months of 2018.\n",
        "\n",
        "For some files, I got a \"ParserError: Error tokenizing data. C error: EOF inside string starting at row xyz\" error, so I had to add the option \"quoting=csv.QUOTE_NONE\" to resolve this problem.\n",
        "\n",
        "UPDATE: chnanged this to \"quoting=csv.QUOTE_MINIMAL\", this also resolved the renaming issue, and the date time conversion issue."
      ]
    },
    {
      "cell_type": "code",
      "metadata": {
        "id": "ByuhKRI77H3b",
        "colab_type": "code",
        "outputId": "18a4d7d5-a6f9-40a5-d391-21172ddaa9a6",
        "colab": {
          "base_uri": "https://localhost:8080/",
          "height": 119
        }
      },
      "source": [
        "import csv\n",
        "\n",
        "tripdata01 = pd.read_csv('201801-citibike-tripdata.csv',quoting=csv.QUOTE_MINIMAL)\n",
        "tripdata01.columns"
      ],
      "execution_count": 0,
      "outputs": [
        {
          "output_type": "execute_result",
          "data": {
            "text/plain": [
              "Index(['tripduration', 'starttime', 'stoptime', 'start station id',\n",
              "       'start station name', 'start station latitude',\n",
              "       'start station longitude', 'end station id', 'end station name',\n",
              "       'end station latitude', 'end station longitude', 'bikeid', 'usertype',\n",
              "       'birth year', 'gender'],\n",
              "      dtype='object')"
            ]
          },
          "metadata": {
            "tags": []
          },
          "execution_count": 2
        }
      ]
    },
    {
      "cell_type": "code",
      "metadata": {
        "id": "DtHK8q--mWSy",
        "colab_type": "code",
        "outputId": "e4c13da5-cc0b-494a-ce7b-e47288922bf6",
        "colab": {
          "base_uri": "https://localhost:8080/",
          "height": 119
        }
      },
      "source": [
        "tripdata02 = pd.read_csv('201802-citibike-tripdata.csv',quoting=csv.QUOTE_MINIMAL)\n",
        "tripdata02.columns"
      ],
      "execution_count": 0,
      "outputs": [
        {
          "output_type": "execute_result",
          "data": {
            "text/plain": [
              "Index(['tripduration', 'starttime', 'stoptime', 'start station id',\n",
              "       'start station name', 'start station latitude',\n",
              "       'start station longitude', 'end station id', 'end station name',\n",
              "       'end station latitude', 'end station longitude', 'bikeid', 'usertype',\n",
              "       'birth year', 'gender'],\n",
              "      dtype='object')"
            ]
          },
          "metadata": {
            "tags": []
          },
          "execution_count": 3
        }
      ]
    },
    {
      "cell_type": "code",
      "metadata": {
        "id": "BmkdM2cBmWY4",
        "colab_type": "code",
        "outputId": "4fa27814-0661-4271-a8a9-d53447011591",
        "colab": {
          "base_uri": "https://localhost:8080/",
          "height": 119
        }
      },
      "source": [
        "tripdata03 = pd.read_csv('201803-citibike-tripdata.csv',quoting=csv.QUOTE_MINIMAL)\n",
        "tripdata03.columns"
      ],
      "execution_count": 0,
      "outputs": [
        {
          "output_type": "execute_result",
          "data": {
            "text/plain": [
              "Index(['tripduration', 'starttime', 'stoptime', 'start station id',\n",
              "       'start station name', 'start station latitude',\n",
              "       'start station longitude', 'end station id', 'end station name',\n",
              "       'end station latitude', 'end station longitude', 'bikeid', 'usertype',\n",
              "       'birth year', 'gender'],\n",
              "      dtype='object')"
            ]
          },
          "metadata": {
            "tags": []
          },
          "execution_count": 4
        }
      ]
    },
    {
      "cell_type": "code",
      "metadata": {
        "id": "niCOTHnAmQV7",
        "colab_type": "code",
        "outputId": "0bec092f-bdfd-4701-dc86-ebb03c9e7c60",
        "colab": {
          "base_uri": "https://localhost:8080/",
          "height": 119
        }
      },
      "source": [
        "tripdata04 = pd.read_csv('201804-citibike-tripdata.csv',quoting=csv.QUOTE_MINIMAL)\n",
        "tripdata04.columns"
      ],
      "execution_count": 0,
      "outputs": [
        {
          "output_type": "execute_result",
          "data": {
            "text/plain": [
              "Index(['tripduration', 'starttime', 'stoptime', 'start station id',\n",
              "       'start station name', 'start station latitude',\n",
              "       'start station longitude', 'end station id', 'end station name',\n",
              "       'end station latitude', 'end station longitude', 'bikeid', 'usertype',\n",
              "       'birth year', 'gender'],\n",
              "      dtype='object')"
            ]
          },
          "metadata": {
            "tags": []
          },
          "execution_count": 5
        }
      ]
    },
    {
      "cell_type": "code",
      "metadata": {
        "id": "07rr6pWLmQZR",
        "colab_type": "code",
        "outputId": "d3b2a0f4-c86b-483e-eb71-2c533fd4c775",
        "colab": {
          "base_uri": "https://localhost:8080/",
          "height": 119
        }
      },
      "source": [
        "tripdata05 = pd.read_csv('201805-citibike-tripdata.csv',quoting=csv.QUOTE_MINIMAL)\n",
        "tripdata05.columns"
      ],
      "execution_count": 0,
      "outputs": [
        {
          "output_type": "execute_result",
          "data": {
            "text/plain": [
              "Index(['tripduration', 'starttime', 'stoptime', 'start station id',\n",
              "       'start station name', 'start station latitude',\n",
              "       'start station longitude', 'end station id', 'end station name',\n",
              "       'end station latitude', 'end station longitude', 'bikeid', 'usertype',\n",
              "       'birth year', 'gender'],\n",
              "      dtype='object')"
            ]
          },
          "metadata": {
            "tags": []
          },
          "execution_count": 6
        }
      ]
    },
    {
      "cell_type": "code",
      "metadata": {
        "id": "7fS1RmyImQgS",
        "colab_type": "code",
        "outputId": "193cea2e-ff1d-4ba1-d2b8-e0a7cb0f14fc",
        "colab": {
          "base_uri": "https://localhost:8080/",
          "height": 119
        }
      },
      "source": [
        "tripdata06 = pd.read_csv('201806-citibike-tripdata.csv',quoting=csv.QUOTE_MINIMAL)\n",
        "tripdata06.columns"
      ],
      "execution_count": 0,
      "outputs": [
        {
          "output_type": "execute_result",
          "data": {
            "text/plain": [
              "Index(['tripduration', 'starttime', 'stoptime', 'start station id',\n",
              "       'start station name', 'start station latitude',\n",
              "       'start station longitude', 'end station id', 'end station name',\n",
              "       'end station latitude', 'end station longitude', 'bikeid', 'usertype',\n",
              "       'birth year', 'gender'],\n",
              "      dtype='object')"
            ]
          },
          "metadata": {
            "tags": []
          },
          "execution_count": 7
        }
      ]
    },
    {
      "cell_type": "code",
      "metadata": {
        "id": "H3bFnB3nmK85",
        "colab_type": "code",
        "outputId": "46479083-517a-44af-9fef-8210e01f443e",
        "colab": {
          "base_uri": "https://localhost:8080/",
          "height": 119
        }
      },
      "source": [
        "tripdata07 = pd.read_csv('201807-citibike-tripdata.csv',quoting=csv.QUOTE_MINIMAL)\n",
        "tripdata07.columns"
      ],
      "execution_count": 0,
      "outputs": [
        {
          "output_type": "execute_result",
          "data": {
            "text/plain": [
              "Index(['tripduration', 'starttime', 'stoptime', 'start station id',\n",
              "       'start station name', 'start station latitude',\n",
              "       'start station longitude', 'end station id', 'end station name',\n",
              "       'end station latitude', 'end station longitude', 'bikeid', 'usertype',\n",
              "       'birth year', 'gender'],\n",
              "      dtype='object')"
            ]
          },
          "metadata": {
            "tags": []
          },
          "execution_count": 8
        }
      ]
    },
    {
      "cell_type": "code",
      "metadata": {
        "id": "0rYj2qb7mLAp",
        "colab_type": "code",
        "outputId": "087ea14b-56af-4edc-b992-0f409536a7ec",
        "colab": {
          "base_uri": "https://localhost:8080/",
          "height": 119
        }
      },
      "source": [
        "tripdata08 = pd.read_csv('201808-citibike-tripdata.csv',quoting=csv.QUOTE_MINIMAL)\n",
        "tripdata08.columns"
      ],
      "execution_count": 0,
      "outputs": [
        {
          "output_type": "execute_result",
          "data": {
            "text/plain": [
              "Index(['tripduration', 'starttime', 'stoptime', 'start station id',\n",
              "       'start station name', 'start station latitude',\n",
              "       'start station longitude', 'end station id', 'end station name',\n",
              "       'end station latitude', 'end station longitude', 'bikeid', 'usertype',\n",
              "       'birth year', 'gender'],\n",
              "      dtype='object')"
            ]
          },
          "metadata": {
            "tags": []
          },
          "execution_count": 9
        }
      ]
    },
    {
      "cell_type": "code",
      "metadata": {
        "id": "2hNW1X6dmLHf",
        "colab_type": "code",
        "outputId": "04bb410a-940b-4073-d914-98b495833f5f",
        "colab": {
          "base_uri": "https://localhost:8080/",
          "height": 119
        }
      },
      "source": [
        "tripdata09 = pd.read_csv('201809-citibike-tripdata.csv',quoting=csv.QUOTE_MINIMAL)\n",
        "tripdata09.columns"
      ],
      "execution_count": 0,
      "outputs": [
        {
          "output_type": "execute_result",
          "data": {
            "text/plain": [
              "Index(['tripduration', 'starttime', 'stoptime', 'start station id',\n",
              "       'start station name', 'start station latitude',\n",
              "       'start station longitude', 'end station id', 'end station name',\n",
              "       'end station latitude', 'end station longitude', 'bikeid', 'usertype',\n",
              "       'birth year', 'gender'],\n",
              "      dtype='object')"
            ]
          },
          "metadata": {
            "tags": []
          },
          "execution_count": 10
        }
      ]
    },
    {
      "cell_type": "code",
      "metadata": {
        "id": "3MRIio_VmBjW",
        "colab_type": "code",
        "outputId": "b9aee48d-77cd-4e99-b551-22a4e9bed8af",
        "colab": {
          "base_uri": "https://localhost:8080/",
          "height": 119
        }
      },
      "source": [
        "tripdata10 = pd.read_csv('201810-citibike-tripdata.csv',quoting=csv.QUOTE_MINIMAL)\n",
        "tripdata10.columns"
      ],
      "execution_count": 0,
      "outputs": [
        {
          "output_type": "execute_result",
          "data": {
            "text/plain": [
              "Index(['tripduration', 'starttime', 'stoptime', 'start station id',\n",
              "       'start station name', 'start station latitude',\n",
              "       'start station longitude', 'end station id', 'end station name',\n",
              "       'end station latitude', 'end station longitude', 'bikeid', 'usertype',\n",
              "       'birth year', 'gender'],\n",
              "      dtype='object')"
            ]
          },
          "metadata": {
            "tags": []
          },
          "execution_count": 11
        }
      ]
    },
    {
      "cell_type": "code",
      "metadata": {
        "id": "7sbvE7WImBpU",
        "colab_type": "code",
        "outputId": "ced979e5-a845-43e3-a323-e32c8841b125",
        "colab": {
          "base_uri": "https://localhost:8080/",
          "height": 119
        }
      },
      "source": [
        "tripdata11 = pd.read_csv('201811-citibike-tripdata.csv',quoting=csv.QUOTE_MINIMAL)\n",
        "tripdata11.columns"
      ],
      "execution_count": 0,
      "outputs": [
        {
          "output_type": "execute_result",
          "data": {
            "text/plain": [
              "Index(['tripduration', 'starttime', 'stoptime', 'start station id',\n",
              "       'start station name', 'start station latitude',\n",
              "       'start station longitude', 'end station id', 'end station name',\n",
              "       'end station latitude', 'end station longitude', 'bikeid', 'usertype',\n",
              "       'birth year', 'gender'],\n",
              "      dtype='object')"
            ]
          },
          "metadata": {
            "tags": []
          },
          "execution_count": 12
        }
      ]
    },
    {
      "cell_type": "code",
      "metadata": {
        "id": "A53Ad4NTmBta",
        "colab_type": "code",
        "outputId": "9245d9d8-4e9d-4b0d-a32e-925fcde653a6",
        "colab": {
          "base_uri": "https://localhost:8080/",
          "height": 119
        }
      },
      "source": [
        "tripdata12 = pd.read_csv('201812-citibike-tripdata.csv',quoting=csv.QUOTE_MINIMAL)\n",
        "tripdata12.columns"
      ],
      "execution_count": 0,
      "outputs": [
        {
          "output_type": "execute_result",
          "data": {
            "text/plain": [
              "Index(['tripduration', 'starttime', 'stoptime', 'start station id',\n",
              "       'start station name', 'start station latitude',\n",
              "       'start station longitude', 'end station id', 'end station name',\n",
              "       'end station latitude', 'end station longitude', 'bikeid', 'usertype',\n",
              "       'birth year', 'gender'],\n",
              "      dtype='object')"
            ]
          },
          "metadata": {
            "tags": []
          },
          "execution_count": 13
        }
      ]
    },
    {
      "cell_type": "markdown",
      "metadata": {
        "id": "ShJHti62ITUS",
        "colab_type": "text"
      },
      "source": [
        "Initially, I got these shapes back, so obviously something was wrong with the upload:\n",
        "\n",
        "(199207, 15)\n",
        "\n",
        "(154638, 15)\n",
        "\n",
        "(138003, 15)\n",
        "\n",
        "(110363, 15)\n",
        "\n",
        "(82492, 15)\n",
        "\n",
        "(65848, 15)\n",
        "\n",
        "(43269, 15)\n",
        "\n",
        "(33064, 15)\n",
        "\n",
        "(16490, 15)\n",
        "\n",
        "(11013, 15)\n",
        "\n",
        "(5505, 15)\n",
        "\n",
        "(5514, 15)\n",
        "\n",
        "I repeated the upload one by one, and now it seems to be right:"
      ]
    },
    {
      "cell_type": "code",
      "metadata": {
        "id": "RaYL1x9rBF2l",
        "colab_type": "code",
        "outputId": "f367c8b2-bc2c-4cc9-dda5-220eb6a1ef66",
        "colab": {
          "base_uri": "https://localhost:8080/",
          "height": 221
        }
      },
      "source": [
        "print(tripdata01.shape)\n",
        "print(tripdata02.shape)\n",
        "print(tripdata03.shape)\n",
        "print(tripdata04.shape)\n",
        "print(tripdata05.shape)\n",
        "print(tripdata06.shape)\n",
        "print(tripdata07.shape)\n",
        "print(tripdata08.shape)\n",
        "print(tripdata09.shape)\n",
        "print(tripdata10.shape)\n",
        "print(tripdata11.shape)\n",
        "print(tripdata12.shape)\n"
      ],
      "execution_count": 0,
      "outputs": [
        {
          "output_type": "stream",
          "text": [
            "(718994, 15)\n",
            "(843114, 15)\n",
            "(976672, 15)\n",
            "(1307543, 15)\n",
            "(1824710, 15)\n",
            "(1953103, 15)\n",
            "(1913625, 15)\n",
            "(1977177, 15)\n",
            "(1877884, 15)\n",
            "(1878657, 15)\n",
            "(1260355, 15)\n",
            "(1016505, 15)\n"
          ],
          "name": "stdout"
        }
      ]
    },
    {
      "cell_type": "markdown",
      "metadata": {
        "id": "6Up_Fhpnu-Tr",
        "colab_type": "text"
      },
      "source": [
        "## Combining"
      ]
    },
    {
      "cell_type": "markdown",
      "metadata": {
        "id": "_RlVgv2uPYo_",
        "colab_type": "text"
      },
      "source": [
        "Combining all into one dataframe:"
      ]
    },
    {
      "cell_type": "code",
      "metadata": {
        "id": "dO4Sg3cYkKmR",
        "colab_type": "code",
        "outputId": "50a8c462-7fd1-4405-dcd8-6a8f5b9fe15d",
        "colab": {
          "base_uri": "https://localhost:8080/",
          "height": 34
        }
      },
      "source": [
        "tripdata = tripdata01.copy()\\\n",
        ".append(tripdata02.copy(), ignore_index=True, sort=False)\\\n",
        ".append(tripdata03.copy(), ignore_index=True, sort=False)\\\n",
        ".append(tripdata04.copy(), ignore_index=True, sort=False)\\\n",
        ".append(tripdata05.copy(), ignore_index=True, sort=False)\\\n",
        ".append(tripdata06.copy(), ignore_index=True, sort=False)\\\n",
        ".append(tripdata07.copy(), ignore_index=True, sort=False)\\\n",
        ".append(tripdata08.copy(), ignore_index=True, sort=False)\\\n",
        ".append(tripdata09.copy(), ignore_index=True, sort=False)\\\n",
        ".append(tripdata10.copy(), ignore_index=True, sort=False)\\\n",
        ".append(tripdata11.copy(), ignore_index=True, sort=False)\\\n",
        ".append(tripdata12.copy(), ignore_index=True, sort=False)\\\n",
        "\n",
        "tripdata.shape"
      ],
      "execution_count": 0,
      "outputs": [
        {
          "output_type": "execute_result",
          "data": {
            "text/plain": [
              "(17548339, 15)"
            ]
          },
          "metadata": {
            "tags": []
          },
          "execution_count": 15
        }
      ]
    },
    {
      "cell_type": "markdown",
      "metadata": {
        "id": "GlwyvxeU4DD3",
        "colab_type": "text"
      },
      "source": [
        "And an attempt to download the combined file"
      ]
    },
    {
      "cell_type": "markdown",
      "metadata": {
        "id": "hM0QSeJQzfdW",
        "colab_type": "text"
      },
      "source": [
        "from google.colab import files\n",
        "\n",
        "tripdata.to_csv('2018all-citibike-tripdata.csv')\n",
        "files.download('2018all-citibike-tripdata.csv')"
      ]
    },
    {
      "cell_type": "code",
      "metadata": {
        "id": "atgzupS9vKLd",
        "colab_type": "code",
        "outputId": "2c919b29-5a85-4b3d-823d-476a47920223",
        "colab": {
          "base_uri": "https://localhost:8080/",
          "height": 323
        }
      },
      "source": [
        "tripdata.head()"
      ],
      "execution_count": 0,
      "outputs": [
        {
          "output_type": "execute_result",
          "data": {
            "text/html": [
              "<div>\n",
              "<style scoped>\n",
              "    .dataframe tbody tr th:only-of-type {\n",
              "        vertical-align: middle;\n",
              "    }\n",
              "\n",
              "    .dataframe tbody tr th {\n",
              "        vertical-align: top;\n",
              "    }\n",
              "\n",
              "    .dataframe thead th {\n",
              "        text-align: right;\n",
              "    }\n",
              "</style>\n",
              "<table border=\"1\" class=\"dataframe\">\n",
              "  <thead>\n",
              "    <tr style=\"text-align: right;\">\n",
              "      <th></th>\n",
              "      <th>tripduration</th>\n",
              "      <th>starttime</th>\n",
              "      <th>stoptime</th>\n",
              "      <th>start station id</th>\n",
              "      <th>start station name</th>\n",
              "      <th>start station latitude</th>\n",
              "      <th>start station longitude</th>\n",
              "      <th>end station id</th>\n",
              "      <th>end station name</th>\n",
              "      <th>end station latitude</th>\n",
              "      <th>end station longitude</th>\n",
              "      <th>bikeid</th>\n",
              "      <th>usertype</th>\n",
              "      <th>birth year</th>\n",
              "      <th>gender</th>\n",
              "    </tr>\n",
              "  </thead>\n",
              "  <tbody>\n",
              "    <tr>\n",
              "      <th>0</th>\n",
              "      <td>970</td>\n",
              "      <td>2018-01-01 13:50:57.4340</td>\n",
              "      <td>2018-01-01 14:07:08.1860</td>\n",
              "      <td>72.0</td>\n",
              "      <td>W 52 St &amp; 11 Ave</td>\n",
              "      <td>40.767272</td>\n",
              "      <td>-73.993929</td>\n",
              "      <td>505.0</td>\n",
              "      <td>6 Ave &amp; W 33 St</td>\n",
              "      <td>40.749013</td>\n",
              "      <td>-73.988484</td>\n",
              "      <td>31956</td>\n",
              "      <td>Subscriber</td>\n",
              "      <td>1992</td>\n",
              "      <td>1</td>\n",
              "    </tr>\n",
              "    <tr>\n",
              "      <th>1</th>\n",
              "      <td>723</td>\n",
              "      <td>2018-01-01 15:33:30.1820</td>\n",
              "      <td>2018-01-01 15:45:33.3410</td>\n",
              "      <td>72.0</td>\n",
              "      <td>W 52 St &amp; 11 Ave</td>\n",
              "      <td>40.767272</td>\n",
              "      <td>-73.993929</td>\n",
              "      <td>3255.0</td>\n",
              "      <td>8 Ave &amp; W 31 St</td>\n",
              "      <td>40.750585</td>\n",
              "      <td>-73.994685</td>\n",
              "      <td>32536</td>\n",
              "      <td>Subscriber</td>\n",
              "      <td>1969</td>\n",
              "      <td>1</td>\n",
              "    </tr>\n",
              "    <tr>\n",
              "      <th>2</th>\n",
              "      <td>496</td>\n",
              "      <td>2018-01-01 15:39:18.3370</td>\n",
              "      <td>2018-01-01 15:47:35.1720</td>\n",
              "      <td>72.0</td>\n",
              "      <td>W 52 St &amp; 11 Ave</td>\n",
              "      <td>40.767272</td>\n",
              "      <td>-73.993929</td>\n",
              "      <td>525.0</td>\n",
              "      <td>W 34 St &amp; 11 Ave</td>\n",
              "      <td>40.755942</td>\n",
              "      <td>-74.002116</td>\n",
              "      <td>16069</td>\n",
              "      <td>Subscriber</td>\n",
              "      <td>1956</td>\n",
              "      <td>1</td>\n",
              "    </tr>\n",
              "    <tr>\n",
              "      <th>3</th>\n",
              "      <td>306</td>\n",
              "      <td>2018-01-01 15:40:13.3720</td>\n",
              "      <td>2018-01-01 15:45:20.1910</td>\n",
              "      <td>72.0</td>\n",
              "      <td>W 52 St &amp; 11 Ave</td>\n",
              "      <td>40.767272</td>\n",
              "      <td>-73.993929</td>\n",
              "      <td>447.0</td>\n",
              "      <td>8 Ave &amp; W 52 St</td>\n",
              "      <td>40.763707</td>\n",
              "      <td>-73.985162</td>\n",
              "      <td>31781</td>\n",
              "      <td>Subscriber</td>\n",
              "      <td>1974</td>\n",
              "      <td>1</td>\n",
              "    </tr>\n",
              "    <tr>\n",
              "      <th>4</th>\n",
              "      <td>306</td>\n",
              "      <td>2018-01-01 18:14:51.5680</td>\n",
              "      <td>2018-01-01 18:19:57.6420</td>\n",
              "      <td>72.0</td>\n",
              "      <td>W 52 St &amp; 11 Ave</td>\n",
              "      <td>40.767272</td>\n",
              "      <td>-73.993929</td>\n",
              "      <td>3356.0</td>\n",
              "      <td>Amsterdam Ave &amp; W 66 St</td>\n",
              "      <td>40.774667</td>\n",
              "      <td>-73.984706</td>\n",
              "      <td>30319</td>\n",
              "      <td>Subscriber</td>\n",
              "      <td>1992</td>\n",
              "      <td>1</td>\n",
              "    </tr>\n",
              "  </tbody>\n",
              "</table>\n",
              "</div>"
            ],
            "text/plain": [
              "   tripduration                 starttime  ... birth year  gender\n",
              "0           970  2018-01-01 13:50:57.4340  ...       1992       1\n",
              "1           723  2018-01-01 15:33:30.1820  ...       1969       1\n",
              "2           496  2018-01-01 15:39:18.3370  ...       1956       1\n",
              "3           306  2018-01-01 15:40:13.3720  ...       1974       1\n",
              "4           306  2018-01-01 18:14:51.5680  ...       1992       1\n",
              "\n",
              "[5 rows x 15 columns]"
            ]
          },
          "metadata": {
            "tags": []
          },
          "execution_count": 16
        }
      ]
    },
    {
      "cell_type": "markdown",
      "metadata": {
        "id": "twxlTUY8vCmL",
        "colab_type": "text"
      },
      "source": [
        "##Cleansing"
      ]
    },
    {
      "cell_type": "markdown",
      "metadata": {
        "id": "1KXSoY1jnQkg",
        "colab_type": "text"
      },
      "source": [
        "All columns seem relevant, so nothing to drop.\n",
        "\n",
        "While tripduration (in seconds) is redundant information, given that it can be calculated as stoptime minus starttime, I am not dropping it, since it is convenient to have."
      ]
    },
    {
      "cell_type": "markdown",
      "metadata": {
        "id": "EF_T_Srlvd6t",
        "colab_type": "text"
      },
      "source": [
        "### Null Values"
      ]
    },
    {
      "cell_type": "markdown",
      "metadata": {
        "id": "2Bm__xt5tIc7",
        "colab_type": "text"
      },
      "source": [
        "Checking for null values and removing those rows"
      ]
    },
    {
      "cell_type": "code",
      "metadata": {
        "id": "c9ptyzVjXaKT",
        "colab_type": "code",
        "outputId": "b2f01c50-6bb1-422f-8a7c-2f5fbb1645e1",
        "colab": {
          "base_uri": "https://localhost:8080/",
          "height": 289
        }
      },
      "source": [
        "tripdata.isnull().sum()"
      ],
      "execution_count": 0,
      "outputs": [
        {
          "output_type": "execute_result",
          "data": {
            "text/plain": [
              "tripduration                  0\n",
              "starttime                     0\n",
              "stoptime                      0\n",
              "start station id           2497\n",
              "start station name         2497\n",
              "start station latitude        0\n",
              "start station longitude       0\n",
              "end station id             2497\n",
              "end station name           2497\n",
              "end station latitude          0\n",
              "end station longitude         0\n",
              "bikeid                        0\n",
              "usertype                      0\n",
              "birth year                    0\n",
              "gender                        0\n",
              "dtype: int64"
            ]
          },
          "metadata": {
            "tags": []
          },
          "execution_count": 17
        }
      ]
    },
    {
      "cell_type": "code",
      "metadata": {
        "id": "eRm1-7i-qzGL",
        "colab_type": "code",
        "outputId": "0ac75f24-016a-439e-b03a-388a32f34ffd",
        "colab": {
          "base_uri": "https://localhost:8080/",
          "height": 323
        }
      },
      "source": [
        "tripdata[tripdata['start station id'].isnull()].head()"
      ],
      "execution_count": 0,
      "outputs": [
        {
          "output_type": "execute_result",
          "data": {
            "text/html": [
              "<div>\n",
              "<style scoped>\n",
              "    .dataframe tbody tr th:only-of-type {\n",
              "        vertical-align: middle;\n",
              "    }\n",
              "\n",
              "    .dataframe tbody tr th {\n",
              "        vertical-align: top;\n",
              "    }\n",
              "\n",
              "    .dataframe thead th {\n",
              "        text-align: right;\n",
              "    }\n",
              "</style>\n",
              "<table border=\"1\" class=\"dataframe\">\n",
              "  <thead>\n",
              "    <tr style=\"text-align: right;\">\n",
              "      <th></th>\n",
              "      <th>tripduration</th>\n",
              "      <th>starttime</th>\n",
              "      <th>stoptime</th>\n",
              "      <th>start station id</th>\n",
              "      <th>start station name</th>\n",
              "      <th>start station latitude</th>\n",
              "      <th>start station longitude</th>\n",
              "      <th>end station id</th>\n",
              "      <th>end station name</th>\n",
              "      <th>end station latitude</th>\n",
              "      <th>end station longitude</th>\n",
              "      <th>bikeid</th>\n",
              "      <th>usertype</th>\n",
              "      <th>birth year</th>\n",
              "      <th>gender</th>\n",
              "    </tr>\n",
              "  </thead>\n",
              "  <tbody>\n",
              "    <tr>\n",
              "      <th>10413518</th>\n",
              "      <td>2544</td>\n",
              "      <td>2018-08-15 11:31:37.8670</td>\n",
              "      <td>2018-08-15 12:14:02.1290</td>\n",
              "      <td>NaN</td>\n",
              "      <td>NaN</td>\n",
              "      <td>40.857</td>\n",
              "      <td>-73.890</td>\n",
              "      <td>NaN</td>\n",
              "      <td>NaN</td>\n",
              "      <td>40.857</td>\n",
              "      <td>-73.890</td>\n",
              "      <td>34426</td>\n",
              "      <td>Subscriber</td>\n",
              "      <td>1971</td>\n",
              "      <td>2</td>\n",
              "    </tr>\n",
              "    <tr>\n",
              "      <th>10413697</th>\n",
              "      <td>2004</td>\n",
              "      <td>2018-08-15 11:35:26.0140</td>\n",
              "      <td>2018-08-15 12:08:50.0360</td>\n",
              "      <td>NaN</td>\n",
              "      <td>NaN</td>\n",
              "      <td>40.857</td>\n",
              "      <td>-73.890</td>\n",
              "      <td>NaN</td>\n",
              "      <td>NaN</td>\n",
              "      <td>40.857</td>\n",
              "      <td>-73.887</td>\n",
              "      <td>34428</td>\n",
              "      <td>Subscriber</td>\n",
              "      <td>1976</td>\n",
              "      <td>2</td>\n",
              "    </tr>\n",
              "    <tr>\n",
              "      <th>10415434</th>\n",
              "      <td>213</td>\n",
              "      <td>2018-08-15 12:10:37.4360</td>\n",
              "      <td>2018-08-15 12:14:11.2920</td>\n",
              "      <td>NaN</td>\n",
              "      <td>NaN</td>\n",
              "      <td>40.857</td>\n",
              "      <td>-73.890</td>\n",
              "      <td>NaN</td>\n",
              "      <td>NaN</td>\n",
              "      <td>40.857</td>\n",
              "      <td>-73.890</td>\n",
              "      <td>34428</td>\n",
              "      <td>Subscriber</td>\n",
              "      <td>1976</td>\n",
              "      <td>2</td>\n",
              "    </tr>\n",
              "    <tr>\n",
              "      <th>10415668</th>\n",
              "      <td>602</td>\n",
              "      <td>2018-08-15 12:15:17.3330</td>\n",
              "      <td>2018-08-15 12:25:19.7620</td>\n",
              "      <td>NaN</td>\n",
              "      <td>NaN</td>\n",
              "      <td>40.845</td>\n",
              "      <td>-73.902</td>\n",
              "      <td>NaN</td>\n",
              "      <td>NaN</td>\n",
              "      <td>40.857</td>\n",
              "      <td>-73.890</td>\n",
              "      <td>34525</td>\n",
              "      <td>Subscriber</td>\n",
              "      <td>1988</td>\n",
              "      <td>1</td>\n",
              "    </tr>\n",
              "    <tr>\n",
              "      <th>10417031</th>\n",
              "      <td>511502</td>\n",
              "      <td>2018-08-15 12:41:41.9690</td>\n",
              "      <td>2018-08-21 10:46:44.6440</td>\n",
              "      <td>NaN</td>\n",
              "      <td>NaN</td>\n",
              "      <td>40.857</td>\n",
              "      <td>-73.890</td>\n",
              "      <td>NaN</td>\n",
              "      <td>NaN</td>\n",
              "      <td>40.857</td>\n",
              "      <td>-73.890</td>\n",
              "      <td>34548</td>\n",
              "      <td>Subscriber</td>\n",
              "      <td>1986</td>\n",
              "      <td>1</td>\n",
              "    </tr>\n",
              "  </tbody>\n",
              "</table>\n",
              "</div>"
            ],
            "text/plain": [
              "          tripduration                 starttime  ... birth year  gender\n",
              "10413518          2544  2018-08-15 11:31:37.8670  ...       1971       2\n",
              "10413697          2004  2018-08-15 11:35:26.0140  ...       1976       2\n",
              "10415434           213  2018-08-15 12:10:37.4360  ...       1976       2\n",
              "10415668           602  2018-08-15 12:15:17.3330  ...       1988       1\n",
              "10417031        511502  2018-08-15 12:41:41.9690  ...       1986       1\n",
              "\n",
              "[5 rows x 15 columns]"
            ]
          },
          "metadata": {
            "tags": []
          },
          "execution_count": 18
        }
      ]
    },
    {
      "cell_type": "code",
      "metadata": {
        "id": "8H5hRNPzu7pR",
        "colab_type": "code",
        "outputId": "d24e4d3c-68d4-4f93-f390-e05e7d6ec836",
        "colab": {
          "base_uri": "https://localhost:8080/",
          "height": 34
        }
      },
      "source": [
        "tripdata.dropna(how='any', inplace=True)\n",
        "tripdata.shape"
      ],
      "execution_count": 0,
      "outputs": [
        {
          "output_type": "execute_result",
          "data": {
            "text/plain": [
              "(17545842, 15)"
            ]
          },
          "metadata": {
            "tags": []
          },
          "execution_count": 19
        }
      ]
    },
    {
      "cell_type": "markdown",
      "metadata": {
        "id": "ItOLsma9ozSF",
        "colab_type": "text"
      },
      "source": [
        "###Age Distribution"
      ]
    },
    {
      "cell_type": "markdown",
      "metadata": {
        "id": "KmS1cu7MxDL3",
        "colab_type": "text"
      },
      "source": [
        "Looking at the age (birth year) distribution, it becomes immediately clear that something is off:"
      ]
    },
    {
      "cell_type": "code",
      "metadata": {
        "id": "DKzlBMhD1hoh",
        "colab_type": "code",
        "outputId": "e3bad29f-f1c3-4829-b9d2-c1d9652719db",
        "colab": {
          "base_uri": "https://localhost:8080/",
          "height": 345
        }
      },
      "source": [
        "plt.style.use('seaborn-notebook')\n",
        "plt.style.use('ggplot')\n",
        "\n",
        "plt.rcParams['figure.figsize'] = (8, 5)\n",
        "plt.rcParams['font.size'] = 14\n",
        "plt.plot(tripdata['birth year'].value_counts().sort_index())"
      ],
      "execution_count": 0,
      "outputs": [
        {
          "output_type": "execute_result",
          "data": {
            "text/plain": [
              "[<matplotlib.lines.Line2D at 0x7f25320b7908>]"
            ]
          },
          "metadata": {
            "tags": []
          },
          "execution_count": 20
        },
        {
          "output_type": "display_data",
          "data": {
            "image/png": "[encoded data removed]",
            "text/plain": [
              "<Figure size 576x360 with 1 Axes>"
            ]
          },
          "metadata": {
            "tags": []
          }
        }
      ]
    },
    {
      "cell_type": "markdown",
      "metadata": {
        "id": "AYP46nlG7SY6",
        "colab_type": "text"
      },
      "source": [
        "There seems to be a single spike at year 1969, which we can confirm by excluding 1969 from the chart:"
      ]
    },
    {
      "cell_type": "code",
      "metadata": {
        "id": "a8vWSe4Z7cqy",
        "colab_type": "code",
        "outputId": "40fec500-502b-40d9-8dce-062ac5a2b0f2",
        "colab": {
          "base_uri": "https://localhost:8080/",
          "height": 344
        }
      },
      "source": [
        "plt.rcParams['figure.figsize'] = (8, 5)\n",
        "plt.rcParams['font.size'] = 14\n",
        "plt.plot(tripdata[tripdata['birth year'] != 1969]['birth year'].value_counts().sort_index())"
      ],
      "execution_count": 0,
      "outputs": [
        {
          "output_type": "execute_result",
          "data": {
            "text/plain": [
              "[<matplotlib.lines.Line2D at 0x7f25320362e8>]"
            ]
          },
          "metadata": {
            "tags": []
          },
          "execution_count": 21
        },
        {
          "output_type": "display_data",
          "data": {
            "image/png": "[encoded data removed]",
            "text/plain": [
              "<Figure size 576x360 with 1 Axes>"
            ]
          },
          "metadata": {
            "tags": []
          }
        }
      ]
    },
    {
      "cell_type": "markdown",
      "metadata": {
        "id": "uszdv8Xh8D6m",
        "colab_type": "text"
      },
      "source": [
        "My best guess ist that if the age is unknown, it was set to 50 (birth year 1969). Since the gender is also unknown for some of the data, it makes sense to see how big the overlap is.\n",
        "\n",
        "For better readability, I am excluding years before 1950:"
      ]
    },
    {
      "cell_type": "code",
      "metadata": {
        "id": "fZOV1z10oyWn",
        "colab_type": "code",
        "outputId": "bc34b480-059d-425b-d977-69ff1098487e",
        "colab": {
          "base_uri": "https://localhost:8080/",
          "height": 452
        }
      },
      "source": [
        "plt.style.use('fivethirtyeight')\n",
        "by_year_gender = tripdata[tripdata['birth year']>1949].groupby(['birth year','gender'])\n",
        "year_gen_sz = by_year_gender.size().unstack()\n",
        "year_gen_sz.plot(kind='bar', figsize=(16,6))"
      ],
      "execution_count": 0,
      "outputs": [
        {
          "output_type": "execute_result",
          "data": {
            "text/plain": [
              "<matplotlib.axes._subplots.AxesSubplot at 0x7f2531ff6940>"
            ]
          },
          "metadata": {
            "tags": []
          },
          "execution_count": 22
        },
        {
          "output_type": "display_data",
          "data": {
            "image/png": "[encoded data removed]",
            "text/plain": [
              "<Figure size 1152x432 with 1 Axes>"
            ]
          },
          "metadata": {
            "tags": []
          }
        }
      ]
    },
    {
      "cell_type": "markdown",
      "metadata": {
        "id": "1v-5uDSn9g-t",
        "colab_type": "text"
      },
      "source": [
        "The overlap of unknown gender (0) and birth year 1969 (age 50) is obvious.\n",
        "\n",
        "Let's see what happens when dropping unknown gender from the data.\n",
        "\n",
        "Ooops, the following uses too much RAM and causes the session to crash:"
      ]
    },
    {
      "cell_type": "markdown",
      "metadata": {
        "id": "51IVRIq8vf1H",
        "colab_type": "text"
      },
      "source": [
        "print(tripdata['gender'].value_counts())\n",
        "\n",
        "indexgender2 = tripdata[tripdata['gender'] == 0].index\n",
        "\n",
        "tripdata.drop(indexgender2, inplace=True)\n",
        "\n",
        "print(tripdata['gender'].value_counts())"
      ]
    }
  ]
}