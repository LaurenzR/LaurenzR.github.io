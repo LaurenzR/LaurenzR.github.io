{
  "nbformat": 4,
  "nbformat_minor": 0,
  "metadata": {
    "colab": {
      "name": "Final Project Laurenz Rothweiler Part 2",
      "version": "0.3.2",
      "provenance": [],
      "toc_visible": true,
      "include_colab_link": true
    },
    "kernelspec": {
      "name": "python3",
      "display_name": "Python 3"
    }
  },
  "cells": [
    {
      "cell_type": "markdown",
      "metadata": {
        "id": "view-in-github",
        "colab_type": "text"
      },
      "source": [
        "<a href=\"https://colab.research.google.com/github/LaurenzR/LaurenzR.github.io/blob/master/Final_Project_Laurenz_Rothweiler_Part_2.ipynb\" target=\"_parent\"><img src=\"https://colab.research.google.com/assets/colab-badge.svg\" alt=\"Open In Colab\"/></a>"
      ]
    },
    {
      "cell_type": "markdown",
      "metadata": {
        "id": "RIgrzUgjDaIK",
        "colab_type": "text"
      },
      "source": [
        "#Citibike Analysis - cont'd"
      ]
    },
    {
      "cell_type": "markdown",
      "metadata": {
        "id": "PD362DIpXqAa",
        "colab_type": "text"
      },
      "source": [
        "Since the session crashed with full-year data, I am continuing here with data for May 2018 only"
      ]
    },
    {
      "cell_type": "code",
      "metadata": {
        "id": "yRgRP0kGOj-j",
        "colab_type": "code",
        "colab": {
          "base_uri": "https://localhost:8080/",
          "height": 119
        },
        "outputId": "d50be856-2b9f-4355-e1de-14021b7cd8c1"
      },
      "source": [
        "import pandas as pd\n",
        "import matplotlib.pyplot as plt\n",
        "import csv\n",
        "\n",
        "tripdata05 = pd.read_csv('201805-citibike-tripdata.csv')\n",
        "tripdata05.columns"
      ],
      "execution_count": 1,
      "outputs": [
        {
          "output_type": "execute_result",
          "data": {
            "text/plain": [
              "Index(['tripduration', 'starttime', 'stoptime', 'start station id',\n",
              "       'start station name', 'start station latitude',\n",
              "       'start station longitude', 'end station id', 'end station name',\n",
              "       'end station latitude', 'end station longitude', 'bikeid', 'usertype',\n",
              "       'birth year', 'gender'],\n",
              "      dtype='object')"
            ]
          },
          "metadata": {
            "tags": []
          },
          "execution_count": 1
        }
      ]
    },
    {
      "cell_type": "code",
      "metadata": {
        "id": "7IyqfRRMOkBQ",
        "colab_type": "code",
        "colab": {
          "base_uri": "https://localhost:8080/",
          "height": 34
        },
        "outputId": "93d3fe35-a6cb-4d87-efe6-de7470dc15fa"
      },
      "source": [
        "tripdata = tripdata05.copy()\n",
        "tripdata.shape"
      ],
      "execution_count": 2,
      "outputs": [
        {
          "output_type": "execute_result",
          "data": {
            "text/plain": [
              "(1824710, 15)"
            ]
          },
          "metadata": {
            "tags": []
          },
          "execution_count": 2
        }
      ]
    },
    {
      "cell_type": "code",
      "metadata": {
        "id": "cVr1B54bOkHG",
        "colab_type": "code",
        "colab": {
          "base_uri": "https://localhost:8080/",
          "height": 289
        },
        "outputId": "b98540cd-f6b3-48ae-fa85-3a4615834477"
      },
      "source": [
        "tripdata.isnull().sum()"
      ],
      "execution_count": 3,
      "outputs": [
        {
          "output_type": "execute_result",
          "data": {
            "text/plain": [
              "tripduration               0\n",
              "starttime                  0\n",
              "stoptime                   0\n",
              "start station id           0\n",
              "start station name         0\n",
              "start station latitude     0\n",
              "start station longitude    0\n",
              "end station id             0\n",
              "end station name           0\n",
              "end station latitude       0\n",
              "end station longitude      0\n",
              "bikeid                     0\n",
              "usertype                   0\n",
              "birth year                 0\n",
              "gender                     0\n",
              "dtype: int64"
            ]
          },
          "metadata": {
            "tags": []
          },
          "execution_count": 3
        }
      ]
    },
    {
      "cell_type": "code",
      "metadata": {
        "id": "bIvHmE6uPFc8",
        "colab_type": "code",
        "colab": {
          "base_uri": "https://localhost:8080/",
          "height": 34
        },
        "outputId": "eb076ed9-151e-437a-e318-db8fbb731e4c"
      },
      "source": [
        "tripdata.dropna(how='any', inplace=True)\n",
        "tripdata.shape"
      ],
      "execution_count": 4,
      "outputs": [
        {
          "output_type": "execute_result",
          "data": {
            "text/plain": [
              "(1824710, 15)"
            ]
          },
          "metadata": {
            "tags": []
          },
          "execution_count": 4
        }
      ]
    },
    {
      "cell_type": "code",
      "metadata": {
        "id": "LraOxVukPMW1",
        "colab_type": "code",
        "colab": {
          "base_uri": "https://localhost:8080/",
          "height": 344
        },
        "outputId": "302757a2-c3b3-46d8-acfa-189a027760c3"
      },
      "source": [
        "plt.style.use('seaborn-notebook')\n",
        "plt.style.use('ggplot')\n",
        "\n",
        "plt.rcParams['figure.figsize'] = (8, 5)\n",
        "plt.rcParams['font.size'] = 14\n",
        "plt.plot(tripdata['birth year'].value_counts().sort_index())"
      ],
      "execution_count": 5,
      "outputs": [
        {
          "output_type": "execute_result",
          "data": {
            "text/plain": [
              "[<matplotlib.lines.Line2D at 0x7f87621b6dd8>]"
            ]
          },
          "metadata": {
            "tags": []
          },
          "execution_count": 5
        },
        {
          "output_type": "display_data",
          "data": {
            "image/png": "[encoded data removed]",
            "text/plain": [
              "<Figure size 576x360 with 1 Axes>"
            ]
          },
          "metadata": {
            "tags": []
          }
        }
      ]
    },
    {
      "cell_type": "code",
      "metadata": {
        "id": "hWte0UptPMZU",
        "colab_type": "code",
        "colab": {
          "base_uri": "https://localhost:8080/",
          "height": 344
        },
        "outputId": "56cf2bb6-90dd-4abc-87c7-4669ea131629"
      },
      "source": [
        "plt.rcParams['figure.figsize'] = (8, 5)\n",
        "plt.rcParams['font.size'] = 14\n",
        "plt.plot(tripdata[tripdata['birth year'] != 1969]['birth year'].value_counts().sort_index())"
      ],
      "execution_count": 6,
      "outputs": [
        {
          "output_type": "execute_result",
          "data": {
            "text/plain": [
              "[<matplotlib.lines.Line2D at 0x7f875f94ac50>]"
            ]
          },
          "metadata": {
            "tags": []
          },
          "execution_count": 6
        },
        {
          "output_type": "display_data",
          "data": {
            "image/png": "[encoded data removed]",
            "text/plain": [
              "<Figure size 576x360 with 1 Axes>"
            ]
          },
          "metadata": {
            "tags": []
          }
        }
      ]
    },
    {
      "cell_type": "code",
      "metadata": {
        "id": "aRyjfS5vPMcW",
        "colab_type": "code",
        "colab": {
          "base_uri": "https://localhost:8080/",
          "height": 452
        },
        "outputId": "90aa83c6-8cd4-48e2-aef5-01c6c521bd66"
      },
      "source": [
        "plt.style.use('fivethirtyeight')\n",
        "by_year_gender = tripdata[tripdata['birth year']>1949].groupby(['birth year','gender'])\n",
        "year_gen_sz = by_year_gender.size().unstack()\n",
        "year_gen_sz.plot(kind='bar', figsize=(16,6))"
      ],
      "execution_count": 7,
      "outputs": [
        {
          "output_type": "execute_result",
          "data": {
            "text/plain": [
              "<matplotlib.axes._subplots.AxesSubplot at 0x7f875f90a860>"
            ]
          },
          "metadata": {
            "tags": []
          },
          "execution_count": 7
        },
        {
          "output_type": "display_data",
          "data": {
            "image/png": "[encoded data removed]",
            "text/plain": [
              "<Figure size 1152x432 with 1 Axes>"
            ]
          },
          "metadata": {
            "tags": []
          }
        }
      ]
    },
    {
      "cell_type": "markdown",
      "metadata": {
        "id": "nz0WeP2gNDqi",
        "colab_type": "text"
      },
      "source": [
        "Checking gender data and dropping rows with a value of 0 (meaning gender unknown)"
      ]
    },
    {
      "cell_type": "code",
      "metadata": {
        "id": "9jCjVgwkMxq6",
        "colab_type": "code",
        "colab": {
          "base_uri": "https://localhost:8080/",
          "height": 136
        },
        "outputId": "82aa1634-8591-4e83-bdbb-91ff78990c43"
      },
      "source": [
        "print(tripdata['gender'].value_counts())\n",
        "\n",
        "indexgenderunknown = tripdata[tripdata['gender'] == 0].index\n",
        "\n",
        "tripdata.drop(indexgenderunknown, inplace=True)\n",
        "\n",
        "print(tripdata['gender'].value_counts())"
      ],
      "execution_count": 8,
      "outputs": [
        {
          "output_type": "stream",
          "text": [
            "1    1203816\n",
            "2     421304\n",
            "0     199590\n",
            "Name: gender, dtype: int64\n",
            "1    1203816\n",
            "2     421304\n",
            "Name: gender, dtype: int64\n"
          ],
          "name": "stdout"
        }
      ]
    },
    {
      "cell_type": "code",
      "metadata": {
        "id": "oAHIKU-zMxty",
        "colab_type": "code",
        "colab": {
          "base_uri": "https://localhost:8080/",
          "height": 452
        },
        "outputId": "fcaf6cef-1317-4b3d-818c-18d13ce3cceb"
      },
      "source": [
        "by_year_gender = tripdata[tripdata['birth year']>1949].groupby(['birth year','gender'])\n",
        "year_gen_sz = by_year_gender.size().unstack()\n",
        "year_gen_sz.plot(kind='bar', figsize=(16,6))"
      ],
      "execution_count": 9,
      "outputs": [
        {
          "output_type": "execute_result",
          "data": {
            "text/plain": [
              "<matplotlib.axes._subplots.AxesSubplot at 0x7f875f99a080>"
            ]
          },
          "metadata": {
            "tags": []
          },
          "execution_count": 9
        },
        {
          "output_type": "display_data",
          "data": {
            "image/png": "[encoded data removed]",
            "text/plain": [
              "<Figure size 1152x432 with 1 Axes>"
            ]
          },
          "metadata": {
            "tags": []
          }
        }
      ]
    },
    {
      "cell_type": "markdown",
      "metadata": {
        "id": "Oci-0J37MxzM",
        "colab_type": "text"
      },
      "source": [
        "There are no unknown or blanks for the usertype (at least after deleting gender = 0 in the last step):"
      ]
    },
    {
      "cell_type": "code",
      "metadata": {
        "id": "OPlopc_3Mx2K",
        "colab_type": "code",
        "colab": {
          "base_uri": "https://localhost:8080/",
          "height": 68
        },
        "outputId": "b16cff24-c789-4634-85db-96ce1652ef6d"
      },
      "source": [
        "print(tripdata['usertype'].value_counts())"
      ],
      "execution_count": 10,
      "outputs": [
        {
          "output_type": "stream",
          "text": [
            "Subscriber    1550250\n",
            "Customer        74870\n",
            "Name: usertype, dtype: int64\n"
          ],
          "name": "stdout"
        }
      ]
    },
    {
      "cell_type": "markdown",
      "metadata": {
        "id": "91ymqvTgFPpB",
        "colab_type": "text"
      },
      "source": [
        "### Calculate distance between start and stop\n",
        "Adding distance to the tripdata dataframe as 'tripdistance'"
      ]
    },
    {
      "cell_type": "code",
      "metadata": {
        "id": "5YuyRGO8LvBi",
        "colab_type": "code",
        "colab": {}
      },
      "source": [
        "import math\n",
        "\n",
        "def distance(origin, destination):\n",
        "    lat1, lon1 = origin\n",
        "    lat2, lon2 = destination\n",
        "    radius = 3959 # miles\n",
        "    \n",
        "    dlat = math.radians(lat2-lat1)\n",
        "    dlon = math.radians(lon2-lon1)\n",
        "    a = math.sin(dlat/2) ** 2 + math.cos(math.radians(lat1)) \\\n",
        "    * math.cos(math.radians(lat2)) * math.sin(dlon/2) ** 2\n",
        "    c = 2 * math.atan2(math.sqrt(a), math.sqrt(1-a))\n",
        "    d = radius * c\n",
        "    \n",
        "    return d"
      ],
      "execution_count": 0,
      "outputs": []
    },
    {
      "cell_type": "code",
      "metadata": {
        "id": "pjevdjHSLvEH",
        "colab_type": "code",
        "colab": {
          "base_uri": "https://localhost:8080/",
          "height": 445
        },
        "outputId": "9b755554-cdbd-4b6f-cd42-5ea6029b2053"
      },
      "source": [
        "tripdistance=[]\n",
        "tripdistancerounded=[]\n",
        "\n",
        "\n",
        "for i in tripdata.values:\n",
        "  dist = distance((i[5],i[6]),(i[9],i[10]))\n",
        "  distrounded = round(dist)\n",
        "  tripdistance.append(dist)\n",
        "  tripdistancerounded.append(distrounded)\n",
        "\n",
        "tripdistancepd = pd.Series(tripdistance)\n",
        "tripdistanceroundedpd = pd.Series(tripdistancerounded)\n",
        "  \n",
        "tripdata['tripdistance'] = tripdistancepd\n",
        "\n",
        "tripdata['tripdistancerounded'] = tripdistanceroundedpd\n",
        "\n",
        "tripdata.head()"
      ],
      "execution_count": 12,
      "outputs": [
        {
          "output_type": "execute_result",
          "data": {
            "text/html": [
              "<div>\n",
              "<style scoped>\n",
              "    .dataframe tbody tr th:only-of-type {\n",
              "        vertical-align: middle;\n",
              "    }\n",
              "\n",
              "    .dataframe tbody tr th {\n",
              "        vertical-align: top;\n",
              "    }\n",
              "\n",
              "    .dataframe thead th {\n",
              "        text-align: right;\n",
              "    }\n",
              "</style>\n",
              "<table border=\"1\" class=\"dataframe\">\n",
              "  <thead>\n",
              "    <tr style=\"text-align: right;\">\n",
              "      <th></th>\n",
              "      <th>tripduration</th>\n",
              "      <th>starttime</th>\n",
              "      <th>stoptime</th>\n",
              "      <th>start station id</th>\n",
              "      <th>start station name</th>\n",
              "      <th>start station latitude</th>\n",
              "      <th>start station longitude</th>\n",
              "      <th>end station id</th>\n",
              "      <th>end station name</th>\n",
              "      <th>end station latitude</th>\n",
              "      <th>end station longitude</th>\n",
              "      <th>bikeid</th>\n",
              "      <th>usertype</th>\n",
              "      <th>birth year</th>\n",
              "      <th>gender</th>\n",
              "      <th>tripdistance</th>\n",
              "      <th>tripdistancerounded</th>\n",
              "    </tr>\n",
              "  </thead>\n",
              "  <tbody>\n",
              "    <tr>\n",
              "      <th>0</th>\n",
              "      <td>367</td>\n",
              "      <td>2018-05-01 05:06:16.5840</td>\n",
              "      <td>2018-05-01 05:12:23.9650</td>\n",
              "      <td>72</td>\n",
              "      <td>W 52 St &amp; 11 Ave</td>\n",
              "      <td>40.767272</td>\n",
              "      <td>-73.993929</td>\n",
              "      <td>514</td>\n",
              "      <td>12 Ave &amp; W 40 St</td>\n",
              "      <td>40.760875</td>\n",
              "      <td>-74.002777</td>\n",
              "      <td>30567</td>\n",
              "      <td>Subscriber</td>\n",
              "      <td>1965</td>\n",
              "      <td>1</td>\n",
              "      <td>0.640157</td>\n",
              "      <td>1.0</td>\n",
              "    </tr>\n",
              "    <tr>\n",
              "      <th>1</th>\n",
              "      <td>1313</td>\n",
              "      <td>2018-05-01 06:25:49.4250</td>\n",
              "      <td>2018-05-01 06:47:42.7120</td>\n",
              "      <td>72</td>\n",
              "      <td>W 52 St &amp; 11 Ave</td>\n",
              "      <td>40.767272</td>\n",
              "      <td>-73.993929</td>\n",
              "      <td>426</td>\n",
              "      <td>West St &amp; Chambers St</td>\n",
              "      <td>40.717548</td>\n",
              "      <td>-74.013221</td>\n",
              "      <td>18965</td>\n",
              "      <td>Subscriber</td>\n",
              "      <td>1956</td>\n",
              "      <td>1</td>\n",
              "      <td>3.581161</td>\n",
              "      <td>4.0</td>\n",
              "    </tr>\n",
              "    <tr>\n",
              "      <th>2</th>\n",
              "      <td>1798</td>\n",
              "      <td>2018-05-01 06:40:26.4450</td>\n",
              "      <td>2018-05-01 07:10:25.1790</td>\n",
              "      <td>72</td>\n",
              "      <td>W 52 St &amp; 11 Ave</td>\n",
              "      <td>40.767272</td>\n",
              "      <td>-73.993929</td>\n",
              "      <td>3435</td>\n",
              "      <td>Grand St &amp; Elizabeth St</td>\n",
              "      <td>40.718822</td>\n",
              "      <td>-73.995960</td>\n",
              "      <td>30241</td>\n",
              "      <td>Subscriber</td>\n",
              "      <td>1959</td>\n",
              "      <td>2</td>\n",
              "      <td>3.349477</td>\n",
              "      <td>3.0</td>\n",
              "    </tr>\n",
              "    <tr>\n",
              "      <th>3</th>\n",
              "      <td>518</td>\n",
              "      <td>2018-05-01 07:06:02.9730</td>\n",
              "      <td>2018-05-01 07:14:41.0040</td>\n",
              "      <td>72</td>\n",
              "      <td>W 52 St &amp; 11 Ave</td>\n",
              "      <td>40.767272</td>\n",
              "      <td>-73.993929</td>\n",
              "      <td>477</td>\n",
              "      <td>W 41 St &amp; 8 Ave</td>\n",
              "      <td>40.756405</td>\n",
              "      <td>-73.990026</td>\n",
              "      <td>28985</td>\n",
              "      <td>Subscriber</td>\n",
              "      <td>1986</td>\n",
              "      <td>1</td>\n",
              "      <td>0.778147</td>\n",
              "      <td>1.0</td>\n",
              "    </tr>\n",
              "    <tr>\n",
              "      <th>4</th>\n",
              "      <td>109</td>\n",
              "      <td>2018-05-01 07:26:32.3450</td>\n",
              "      <td>2018-05-01 07:28:21.5420</td>\n",
              "      <td>72</td>\n",
              "      <td>W 52 St &amp; 11 Ave</td>\n",
              "      <td>40.767272</td>\n",
              "      <td>-73.993929</td>\n",
              "      <td>530</td>\n",
              "      <td>11 Ave &amp; W 59 St</td>\n",
              "      <td>40.771522</td>\n",
              "      <td>-73.990541</td>\n",
              "      <td>14556</td>\n",
              "      <td>Subscriber</td>\n",
              "      <td>1991</td>\n",
              "      <td>1</td>\n",
              "      <td>0.343022</td>\n",
              "      <td>0.0</td>\n",
              "    </tr>\n",
              "  </tbody>\n",
              "</table>\n",
              "</div>"
            ],
            "text/plain": [
              "   tripduration                 starttime  ... tripdistance  tripdistancerounded\n",
              "0           367  2018-05-01 05:06:16.5840  ...     0.640157                  1.0\n",
              "1          1313  2018-05-01 06:25:49.4250  ...     3.581161                  4.0\n",
              "2          1798  2018-05-01 06:40:26.4450  ...     3.349477                  3.0\n",
              "3           518  2018-05-01 07:06:02.9730  ...     0.778147                  1.0\n",
              "4           109  2018-05-01 07:26:32.3450  ...     0.343022                  0.0\n",
              "\n",
              "[5 rows x 17 columns]"
            ]
          },
          "metadata": {
            "tags": []
          },
          "execution_count": 12
        }
      ]
    },
    {
      "cell_type": "markdown",
      "metadata": {
        "id": "hi8jPQqkMgY0",
        "colab_type": "text"
      },
      "source": [
        "### Converting starttime and stoptime to datetime format\n",
        "And adding the hour of starttime as 'starttimehour'"
      ]
    },
    {
      "cell_type": "markdown",
      "metadata": {
        "id": "-_uM6CYjMcez",
        "colab_type": "text"
      },
      "source": [
        "starttime and stoptime are objects (or strings), which I need to convert to dates and times"
      ]
    },
    {
      "cell_type": "code",
      "metadata": {
        "id": "S6JzImSrLvGX",
        "colab_type": "code",
        "colab": {
          "base_uri": "https://localhost:8080/",
          "height": 323
        },
        "outputId": "f602edb2-c5fc-41d3-dd5d-e3042f333465"
      },
      "source": [
        "tripdata.dtypes"
      ],
      "execution_count": 13,
      "outputs": [
        {
          "output_type": "execute_result",
          "data": {
            "text/plain": [
              "tripduration                 int64\n",
              "starttime                   object\n",
              "stoptime                    object\n",
              "start station id             int64\n",
              "start station name          object\n",
              "start station latitude     float64\n",
              "start station longitude    float64\n",
              "end station id               int64\n",
              "end station name            object\n",
              "end station latitude       float64\n",
              "end station longitude      float64\n",
              "bikeid                       int64\n",
              "usertype                    object\n",
              "birth year                   int64\n",
              "gender                       int64\n",
              "tripdistance               float64\n",
              "tripdistancerounded        float64\n",
              "dtype: object"
            ]
          },
          "metadata": {
            "tags": []
          },
          "execution_count": 13
        }
      ]
    },
    {
      "cell_type": "code",
      "metadata": {
        "id": "JBQEmTIsLvIn",
        "colab_type": "code",
        "colab": {
          "base_uri": "https://localhost:8080/",
          "height": 445
        },
        "outputId": "ff45c468-9648-449c-d030-3a240dd82e82"
      },
      "source": [
        "tripdata['starttime'] = pd.to_datetime(tripdata.starttime)\n",
        "tripdata['stoptime'] = pd.to_datetime(tripdata.stoptime)\n",
        "tripdata['starttimehour'] = tripdata['starttime'].dt.hour\n",
        "tripdata['weekday'] = tripdata['starttime'].dt.weekday\n",
        "\n",
        "tripdata.head()"
      ],
      "execution_count": 14,
      "outputs": [
        {
          "output_type": "execute_result",
          "data": {
            "text/html": [
              "<div>\n",
              "<style scoped>\n",
              "    .dataframe tbody tr th:only-of-type {\n",
              "        vertical-align: middle;\n",
              "    }\n",
              "\n",
              "    .dataframe tbody tr th {\n",
              "        vertical-align: top;\n",
              "    }\n",
              "\n",
              "    .dataframe thead th {\n",
              "        text-align: right;\n",
              "    }\n",
              "</style>\n",
              "<table border=\"1\" class=\"dataframe\">\n",
              "  <thead>\n",
              "    <tr style=\"text-align: right;\">\n",
              "      <th></th>\n",
              "      <th>tripduration</th>\n",
              "      <th>starttime</th>\n",
              "      <th>stoptime</th>\n",
              "      <th>start station id</th>\n",
              "      <th>start station name</th>\n",
              "      <th>start station latitude</th>\n",
              "      <th>start station longitude</th>\n",
              "      <th>end station id</th>\n",
              "      <th>end station name</th>\n",
              "      <th>end station latitude</th>\n",
              "      <th>end station longitude</th>\n",
              "      <th>bikeid</th>\n",
              "      <th>usertype</th>\n",
              "      <th>birth year</th>\n",
              "      <th>gender</th>\n",
              "      <th>tripdistance</th>\n",
              "      <th>tripdistancerounded</th>\n",
              "      <th>starttimehour</th>\n",
              "      <th>weekday</th>\n",
              "    </tr>\n",
              "  </thead>\n",
              "  <tbody>\n",
              "    <tr>\n",
              "      <th>0</th>\n",
              "      <td>367</td>\n",
              "      <td>2018-05-01 05:06:16.584</td>\n",
              "      <td>2018-05-01 05:12:23.965</td>\n",
              "      <td>72</td>\n",
              "      <td>W 52 St &amp; 11 Ave</td>\n",
              "      <td>40.767272</td>\n",
              "      <td>-73.993929</td>\n",
              "      <td>514</td>\n",
              "      <td>12 Ave &amp; W 40 St</td>\n",
              "      <td>40.760875</td>\n",
              "      <td>-74.002777</td>\n",
              "      <td>30567</td>\n",
              "      <td>Subscriber</td>\n",
              "      <td>1965</td>\n",
              "      <td>1</td>\n",
              "      <td>0.640157</td>\n",
              "      <td>1.0</td>\n",
              "      <td>5</td>\n",
              "      <td>1</td>\n",
              "    </tr>\n",
              "    <tr>\n",
              "      <th>1</th>\n",
              "      <td>1313</td>\n",
              "      <td>2018-05-01 06:25:49.425</td>\n",
              "      <td>2018-05-01 06:47:42.712</td>\n",
              "      <td>72</td>\n",
              "      <td>W 52 St &amp; 11 Ave</td>\n",
              "      <td>40.767272</td>\n",
              "      <td>-73.993929</td>\n",
              "      <td>426</td>\n",
              "      <td>West St &amp; Chambers St</td>\n",
              "      <td>40.717548</td>\n",
              "      <td>-74.013221</td>\n",
              "      <td>18965</td>\n",
              "      <td>Subscriber</td>\n",
              "      <td>1956</td>\n",
              "      <td>1</td>\n",
              "      <td>3.581161</td>\n",
              "      <td>4.0</td>\n",
              "      <td>6</td>\n",
              "      <td>1</td>\n",
              "    </tr>\n",
              "    <tr>\n",
              "      <th>2</th>\n",
              "      <td>1798</td>\n",
              "      <td>2018-05-01 06:40:26.445</td>\n",
              "      <td>2018-05-01 07:10:25.179</td>\n",
              "      <td>72</td>\n",
              "      <td>W 52 St &amp; 11 Ave</td>\n",
              "      <td>40.767272</td>\n",
              "      <td>-73.993929</td>\n",
              "      <td>3435</td>\n",
              "      <td>Grand St &amp; Elizabeth St</td>\n",
              "      <td>40.718822</td>\n",
              "      <td>-73.995960</td>\n",
              "      <td>30241</td>\n",
              "      <td>Subscriber</td>\n",
              "      <td>1959</td>\n",
              "      <td>2</td>\n",
              "      <td>3.349477</td>\n",
              "      <td>3.0</td>\n",
              "      <td>6</td>\n",
              "      <td>1</td>\n",
              "    </tr>\n",
              "    <tr>\n",
              "      <th>3</th>\n",
              "      <td>518</td>\n",
              "      <td>2018-05-01 07:06:02.973</td>\n",
              "      <td>2018-05-01 07:14:41.004</td>\n",
              "      <td>72</td>\n",
              "      <td>W 52 St &amp; 11 Ave</td>\n",
              "      <td>40.767272</td>\n",
              "      <td>-73.993929</td>\n",
              "      <td>477</td>\n",
              "      <td>W 41 St &amp; 8 Ave</td>\n",
              "      <td>40.756405</td>\n",
              "      <td>-73.990026</td>\n",
              "      <td>28985</td>\n",
              "      <td>Subscriber</td>\n",
              "      <td>1986</td>\n",
              "      <td>1</td>\n",
              "      <td>0.778147</td>\n",
              "      <td>1.0</td>\n",
              "      <td>7</td>\n",
              "      <td>1</td>\n",
              "    </tr>\n",
              "    <tr>\n",
              "      <th>4</th>\n",
              "      <td>109</td>\n",
              "      <td>2018-05-01 07:26:32.345</td>\n",
              "      <td>2018-05-01 07:28:21.542</td>\n",
              "      <td>72</td>\n",
              "      <td>W 52 St &amp; 11 Ave</td>\n",
              "      <td>40.767272</td>\n",
              "      <td>-73.993929</td>\n",
              "      <td>530</td>\n",
              "      <td>11 Ave &amp; W 59 St</td>\n",
              "      <td>40.771522</td>\n",
              "      <td>-73.990541</td>\n",
              "      <td>14556</td>\n",
              "      <td>Subscriber</td>\n",
              "      <td>1991</td>\n",
              "      <td>1</td>\n",
              "      <td>0.343022</td>\n",
              "      <td>0.0</td>\n",
              "      <td>7</td>\n",
              "      <td>1</td>\n",
              "    </tr>\n",
              "  </tbody>\n",
              "</table>\n",
              "</div>"
            ],
            "text/plain": [
              "   tripduration               starttime  ... starttimehour  weekday\n",
              "0           367 2018-05-01 05:06:16.584  ...             5        1\n",
              "1          1313 2018-05-01 06:25:49.425  ...             6        1\n",
              "2          1798 2018-05-01 06:40:26.445  ...             6        1\n",
              "3           518 2018-05-01 07:06:02.973  ...             7        1\n",
              "4           109 2018-05-01 07:26:32.345  ...             7        1\n",
              "\n",
              "[5 rows x 19 columns]"
            ]
          },
          "metadata": {
            "tags": []
          },
          "execution_count": 14
        }
      ]
    },
    {
      "cell_type": "code",
      "metadata": {
        "id": "HlgjfNztLvK2",
        "colab_type": "code",
        "colab": {
          "base_uri": "https://localhost:8080/",
          "height": 357
        },
        "outputId": "ee7ccf4e-e230-46e8-e5e3-3b4670226625"
      },
      "source": [
        "tripdata.dtypes"
      ],
      "execution_count": 15,
      "outputs": [
        {
          "output_type": "execute_result",
          "data": {
            "text/plain": [
              "tripduration                        int64\n",
              "starttime                  datetime64[ns]\n",
              "stoptime                   datetime64[ns]\n",
              "start station id                    int64\n",
              "start station name                 object\n",
              "start station latitude            float64\n",
              "start station longitude           float64\n",
              "end station id                      int64\n",
              "end station name                   object\n",
              "end station latitude              float64\n",
              "end station longitude             float64\n",
              "bikeid                              int64\n",
              "usertype                           object\n",
              "birth year                          int64\n",
              "gender                              int64\n",
              "tripdistance                      float64\n",
              "tripdistancerounded               float64\n",
              "starttimehour                       int64\n",
              "weekday                             int64\n",
              "dtype: object"
            ]
          },
          "metadata": {
            "tags": []
          },
          "execution_count": 15
        }
      ]
    },
    {
      "cell_type": "markdown",
      "metadata": {
        "id": "fF-eKBdhZutL",
        "colab_type": "text"
      },
      "source": [
        "## Comparison between Men and Women"
      ]
    },
    {
      "cell_type": "code",
      "metadata": {
        "id": "lYGfuZxkUEqo",
        "colab_type": "code",
        "colab": {
          "base_uri": "https://localhost:8080/",
          "height": 440
        },
        "outputId": "eeb15f18-151b-485f-846d-396f4c1b68fc"
      },
      "source": [
        "by_starttimehour_gender = tripdata.groupby(['starttimehour','gender'])\n",
        "starttimehour_gen_sz = by_starttimehour_gender.size().unstack()\n",
        "starttimehour_gen_sz.plot(kind='bar', figsize=(16,6))"
      ],
      "execution_count": 16,
      "outputs": [
        {
          "output_type": "execute_result",
          "data": {
            "text/plain": [
              "<matplotlib.axes._subplots.AxesSubplot at 0x7f875f445550>"
            ]
          },
          "metadata": {
            "tags": []
          },
          "execution_count": 16
        },
        {
          "output_type": "display_data",
          "data": {
            "image/png": "[encoded data removed]",
            "text/plain": [
              "<Figure size 1152x432 with 1 Axes>"
            ]
          },
          "metadata": {
            "tags": []
          }
        }
      ]
    },
    {
      "cell_type": "markdown",
      "metadata": {
        "id": "ay-CNbdOUJdY",
        "colab_type": "text"
      },
      "source": [
        "To really compare the data for gender patterns, I am normalizing the data by proportionately increasing female rides to match the male rides.\n",
        "\n",
        "It shows that men are a bit more likely to ride in the evening and at night, but the difference is not stark:"
      ]
    },
    {
      "cell_type": "code",
      "metadata": {
        "id": "HgPV7SamLvPe",
        "colab_type": "code",
        "colab": {
          "base_uri": "https://localhost:8080/",
          "height": 440
        },
        "outputId": "267d1817-70a1-4958-d6fd-bb94a05eca6a"
      },
      "source": [
        "by_starttimehour_gender = tripdata.groupby(['starttimehour','gender'])\n",
        "starttimehour_gen_sz = by_starttimehour_gender.size().unstack()\n",
        "\n",
        "starttimehour_gen_sz[2] = starttimehour_gen_sz[2] / 421304 * 1203816\n",
        "\n",
        "starttimehour_gen_sz.plot(kind='bar', figsize=(16,6))"
      ],
      "execution_count": 17,
      "outputs": [
        {
          "output_type": "execute_result",
          "data": {
            "text/plain": [
              "<matplotlib.axes._subplots.AxesSubplot at 0x7f8741f72390>"
            ]
          },
          "metadata": {
            "tags": []
          },
          "execution_count": 17
        },
        {
          "output_type": "display_data",
          "data": {
            "image/png": "[encoded data removed]",
            "text/plain": [
              "<Figure size 1152x432 with 1 Axes>"
            ]
          },
          "metadata": {
            "tags": []
          }
        }
      ]
    },
    {
      "cell_type": "markdown",
      "metadata": {
        "id": "x-ISWM9sXCXh",
        "colab_type": "text"
      },
      "source": [
        "A similarly normalized chart for distance shows no differenc between men and women"
      ]
    },
    {
      "cell_type": "code",
      "metadata": {
        "id": "oemibvCkLvUh",
        "colab_type": "code",
        "colab": {
          "base_uri": "https://localhost:8080/",
          "height": 449
        },
        "outputId": "59e03f03-a087-4320-db1d-087e1f21c7da"
      },
      "source": [
        "by_dist_gender = tripdata.groupby(['tripdistancerounded','gender'])\n",
        "dist_gen_sz = by_dist_gender.size().unstack()\n",
        "\n",
        "dist_gen_sz[2] = dist_gen_sz[2] / 421304 * 1203816\n",
        "\n",
        "dist_gen_sz.plot(kind='bar', figsize=(16,6))"
      ],
      "execution_count": 18,
      "outputs": [
        {
          "output_type": "execute_result",
          "data": {
            "text/plain": [
              "<matplotlib.axes._subplots.AxesSubplot at 0x7f8740ec5978>"
            ]
          },
          "metadata": {
            "tags": []
          },
          "execution_count": 18
        },
        {
          "output_type": "display_data",
          "data": {
            "image/png": "[encoded data removed]",
            "text/plain": [
              "<Figure size 1152x432 with 1 Axes>"
            ]
          },
          "metadata": {
            "tags": []
          }
        }
      ]
    },
    {
      "cell_type": "markdown",
      "metadata": {
        "id": "K7kP7rsQYtmG",
        "colab_type": "text"
      },
      "source": [
        "A similarly normalized chart for days of the week shows only little difference between men and women:"
      ]
    },
    {
      "cell_type": "code",
      "metadata": {
        "id": "g2EKnqn9YUBR",
        "colab_type": "code",
        "colab": {
          "base_uri": "https://localhost:8080/",
          "height": 433
        },
        "outputId": "8a6431d8-ce34-4277-9224-920aceeee0f1"
      },
      "source": [
        "by_weekday_gender = tripdata.groupby(['weekday','gender'])\n",
        "weekday_gen_sz = by_weekday_gender.size().unstack()\n",
        "\n",
        "weekday_gen_sz[2] = weekday_gen_sz[2] / 421304 * 1203816\n",
        "\n",
        "weekday_gen_sz.plot(kind='bar', figsize=(16,6))"
      ],
      "execution_count": 19,
      "outputs": [
        {
          "output_type": "execute_result",
          "data": {
            "text/plain": [
              "<matplotlib.axes._subplots.AxesSubplot at 0x7f8740e53dd8>"
            ]
          },
          "metadata": {
            "tags": []
          },
          "execution_count": 19
        },
        {
          "output_type": "display_data",
          "data": {
            "image/png": "[encoded data removed]",
            "text/plain": [
              "<Figure size 1152x432 with 1 Axes>"
            ]
          },
          "metadata": {
            "tags": []
          }
        }
      ]
    },
    {
      "cell_type": "markdown",
      "metadata": {
        "id": "5ZVkRhlHZEQk",
        "colab_type": "text"
      },
      "source": [
        "##Of course, this would need more analysis, but at least the initial conclusion is that while rides by men outnumber rides by women 3 to 1, the rider patterns between men and women are fairly similar."
      ]
    }
  ]
}