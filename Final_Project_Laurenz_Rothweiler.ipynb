{
  "nbformat": 4,
  "nbformat_minor": 0,
  "metadata": {
    "colab": {
      "name": "Final Project Laurenz Rothweiler",
      "version": "0.3.2",
      "provenance": [],
      "toc_visible": true,
      "include_colab_link": true
    },
    "kernelspec": {
      "name": "python3",
      "display_name": "Python 3"
    }
  },
  "cells": [
    {
      "cell_type": "markdown",
      "metadata": {
        "id": "view-in-github",
        "colab_type": "text"
      },
      "source": [
        "<a href=\"https://colab.research.google.com/github/LaurenzR/LaurenzR.github.io/blob/master/Final_Project_Laurenz_Rothweiler.ipynb\" target=\"_parent\"><img src=\"https://colab.research.google.com/assets/colab-badge.svg\" alt=\"Open In Colab\"/></a>"
      ]
    },
    {
      "cell_type": "markdown",
      "metadata": {
        "id": "KWNaFmsXjhON",
        "colab_type": "text"
      },
      "source": [
        "# Citibike Analysis"
      ]
    },
    {
      "cell_type": "markdown",
      "metadata": {
        "id": "454qRaYl_Tv_",
        "colab_type": "text"
      },
      "source": [
        "# Intro"
      ]
    },
    {
      "cell_type": "markdown",
      "metadata": {
        "id": "6US7aKp87Xle",
        "colab_type": "text"
      },
      "source": [
        "I am a Citibike user myself, and I find the data aspect of this fascinating. Data can help in balancing the system (making sure there are enough bikes and empty docks at each station), something that is very important for all Citibike users, whether they are interested in the data or not.\n",
        "\n",
        "So I decided to have a closer look at that data.\n",
        "\n",
        "---\n",
        "\n",
        "\n",
        "\n",
        "A very quick look at the data shows that trips taken by men (shown in blue) far outnumber the trips taken by women (shown in orange), so that is certainly one thing I would like to investigate further:"
      ]
    },
    {
      "cell_type": "code",
      "metadata": {
        "id": "7IyQkG63kDR2",
        "colab_type": "code",
        "outputId": "1e5942bc-734e-471a-c5c0-41bcf9e87782",
        "colab": {
          "base_uri": "https://localhost:8080/",
          "height": 272
        }
      },
      "source": [
        "import pandas as pd\n",
        "import matplotlib.pyplot as plt\n",
        "tripdata01 = pd.read_csv('201801-citibike-tripdata.csv')\n",
        "tripdata01['gender'].value_counts().plot(kind='pie')"
      ],
      "execution_count": 24,
      "outputs": [
        {
          "output_type": "execute_result",
          "data": {
            "text/plain": [
              "<matplotlib.axes._subplots.AxesSubplot at 0x7f41c90c3a90>"
            ]
          },
          "metadata": {
            "tags": []
          },
          "execution_count": 24
        },
        {
          "output_type": "display_data",
          "data": {
            "image/png": "[encoded data removed]",
            "text/plain": [
              "<Figure size 432x288 with 1 Axes>"
            ]
          },
          "metadata": {
            "tags": []
          }
        }
      ]
    },
    {
      "cell_type": "markdown",
      "metadata": {
        "id": "Z-NcTLne_asc",
        "colab_type": "text"
      },
      "source": [
        "# Loading, combining and cleansing the dataset"
      ]
    },
    {
      "cell_type": "markdown",
      "metadata": {
        "id": "tJUFiQ8__9wt",
        "colab_type": "text"
      },
      "source": [
        "Let's look at a full year of data, since the data fluctuates quite a bit over the course of a year due to seasonality.\n",
        "\n",
        "I am loading all months of 2018.\n",
        "\n",
        "For some files, I got a \"ParserError: Error tokenizing data. C error: EOF inside string starting at row xyz\" error, so I had to add the option \"quoting=csv.QUOTE_NONE\" to resolve this problem."
      ]
    },
    {
      "cell_type": "code",
      "metadata": {
        "id": "ByuhKRI77H3b",
        "colab_type": "code",
        "colab": {}
      },
      "source": [
        "import csv\n",
        "\n",
        "\n",
        "tripdata \n",
        "tripdata02 = pd.read_csv('201802-citibike-tripdata.csv')\n",
        "tripdata03 = pd.read_csv('201803-citibike-tripdata.csv',quoting=csv.QUOTE_NONE)\n",
        "tripdata04 = pd.read_csv('201804-citibike-tripdata.csv',quoting=csv.QUOTE_NONE)\n",
        "tripdata05 = pd.read_csv('201805-citibike-tripdata.csv')\n",
        "tripdata06 = pd.read_csv('201806-citibike-tripdata.csv')\n",
        "tripdata07 = pd.read_csv('201807-citibike-tripdata.csv',quoting=csv.QUOTE_NONE)\n",
        "tripdata08 = pd.read_csv('201808-citibike-tripdata.csv',quoting=csv.QUOTE_NONE)\n",
        "tripdata09 = pd.read_csv('201809-citibike-tripdata.csv',quoting=csv.QUOTE_NONE)\n",
        "tripdata10 = pd.read_csv('201810-citibike-tripdata.csv')\n",
        "tripdata11 = pd.read_csv('201811-citibike-tripdata.csv',quoting=csv.QUOTE_NONE)\n",
        "tripdata12 = pd.read_csv('201812-citibike-tripdata.csv')"
      ],
      "execution_count": 0,
      "outputs": []
    },
    {
      "cell_type": "markdown",
      "metadata": {
        "id": "ShJHti62ITUS",
        "colab_type": "text"
      },
      "source": [
        "Initially, I got these shapes back, so obviously something was wrong with the upload:\n",
        "\n",
        "(199207, 15)\n",
        "\n",
        "(154638, 15)\n",
        "\n",
        "(138003, 15)\n",
        "\n",
        "(110363, 15)\n",
        "\n",
        "(82492, 15)\n",
        "\n",
        "(65848, 15)\n",
        "\n",
        "(43269, 15)\n",
        "\n",
        "(33064, 15)\n",
        "\n",
        "(16490, 15)\n",
        "\n",
        "(11013, 15)\n",
        "\n",
        "(5505, 15)\n",
        "\n",
        "(5514, 15)\n",
        "\n",
        "I repeated the upload one by one, and now it seems to be right, exept that the columns are labeled differently:"
      ]
    },
    {
      "cell_type": "code",
      "metadata": {
        "id": "RaYL1x9rBF2l",
        "colab_type": "code",
        "outputId": "87cfe9d0-08ee-467d-c24a-994fdbbe5aff",
        "colab": {
          "base_uri": "https://localhost:8080/",
          "height": 476
        }
      },
      "source": [
        "print(tripdata01.shape, tripdata01.columns)\n",
        "print(tripdata02.shape, tripdata02.columns)\n",
        "print(tripdata03.shape, tripdata03.columns)\n",
        "print(tripdata04.shape)\n",
        "print(tripdata05.shape)\n",
        "print(tripdata06.shape)\n",
        "print(tripdata07.shape)\n",
        "print(tripdata08.shape)\n",
        "print(tripdata09.shape)\n",
        "print(tripdata10.shape)\n",
        "print(tripdata11.shape)\n",
        "print(tripdata12.shape)\n"
      ],
      "execution_count": 26,
      "outputs": [
        {
          "output_type": "stream",
          "text": [
            "(718994, 15) Index(['tripduration', 'starttime', 'stoptime', 'start station id',\n",
            "       'start station name', 'start station latitude',\n",
            "       'start station longitude', 'end station id', 'end station name',\n",
            "       'end station latitude', 'end station longitude', 'bikeid', 'usertype',\n",
            "       'birth year', 'gender'],\n",
            "      dtype='object')\n",
            "(843114, 15) Index(['tripduration', 'starttime', 'stoptime', 'start station id',\n",
            "       'start station name', 'start station latitude',\n",
            "       'start station longitude', 'end station id', 'end station name',\n",
            "       'end station latitude', 'end station longitude', 'bikeid', 'usertype',\n",
            "       'birth year', 'gender'],\n",
            "      dtype='object')\n",
            "(976672, 15) Index(['\"tripduration\"', '\"starttime\"', '\"stoptime\"', '\"start station id\"',\n",
            "       '\"start station name\"', '\"start station latitude\"',\n",
            "       '\"start station longitude\"', '\"end station id\"', '\"end station name\"',\n",
            "       '\"end station latitude\"', '\"end station longitude\"', '\"bikeid\"',\n",
            "       '\"usertype\"', '\"birth year\"', '\"gender\"'],\n",
            "      dtype='object')\n",
            "(1307543, 15)\n",
            "(1824710, 15)\n",
            "(65848, 15)\n",
            "(43269, 15)\n",
            "(33064, 15)\n",
            "(16490, 15)\n",
            "(11013, 15)\n",
            "(5505, 15)\n",
            "(1016505, 15)\n"
          ],
          "name": "stdout"
        }
      ]
    },
    {
      "cell_type": "markdown",
      "metadata": {
        "id": "-A9RRikfXPDR",
        "colab_type": "text"
      },
      "source": [
        "So I have to rename the columns for those dataframes where they are different"
      ]
    },
    {
      "cell_type": "code",
      "metadata": {
        "id": "M6n94UN3Xi0j",
        "colab_type": "code",
        "colab": {}
      },
      "source": [
        "tripdata03.rename(columns={'\"tripduration\"':'tripduration',\n",
        "                           '\"starttime\"':'starttime', \n",
        "                           '\"stoptime\"':'stoptime', \n",
        "                           '\"start station id\"':'start station id',\n",
        "                           '\"start station name\"':'start station name',\n",
        "                           '\"start station latitude\"':'start station latitude',\n",
        "                           '\"start station longitude\"':'start station longitude',\n",
        "                           '\"end station id\"':'end station id',\n",
        "                           '\"end station name\"':'end station name',\n",
        "                           '\"end station latitude\"':'end station latitude',\n",
        "                           '\"end station longitude\"':'end station longitude',\n",
        "                           '\"bikeid\"':'bikeid',\n",
        "                           '\"usertype\"':'usertype',\n",
        "                           '\"birth year\"':'birth year',\n",
        "                           '\"gender\"':'gender'},\n",
        "                  inplace=True)\n",
        "\n",
        "tripdata04.rename(columns={'\"tripduration\"':'tripduration',\n",
        "                           '\"starttime\"':'starttime', \n",
        "                           '\"stoptime\"':'stoptime', \n",
        "                           '\"start station id\"':'start station id',\n",
        "                           '\"start station name\"':'start station name',\n",
        "                           '\"start station latitude\"':'start station latitude',\n",
        "                           '\"start station longitude\"':'start station longitude',\n",
        "                           '\"end station id\"':'end station id',\n",
        "                           '\"end station name\"':'end station name',\n",
        "                           '\"end station latitude\"':'end station latitude',\n",
        "                           '\"end station longitude\"':'end station longitude',\n",
        "                           '\"bikeid\"':'bikeid',\n",
        "                           '\"usertype\"':'usertype',\n",
        "                           '\"birth year\"':'birth year',\n",
        "                           '\"gender\"':'gender'},\n",
        "                  inplace=True)\n",
        "\n",
        "tripdata07.rename(columns={'\"tripduration\"':'tripduration',\n",
        "                           '\"starttime\"':'starttime', \n",
        "                           '\"stoptime\"':'stoptime', \n",
        "                           '\"start station id\"':'start station id',\n",
        "                           '\"start station name\"':'start station name',\n",
        "                           '\"start station latitude\"':'start station latitude',\n",
        "                           '\"start station longitude\"':'start station longitude',\n",
        "                           '\"end station id\"':'end station id',\n",
        "                           '\"end station name\"':'end station name',\n",
        "                           '\"end station latitude\"':'end station latitude',\n",
        "                           '\"end station longitude\"':'end station longitude',\n",
        "                           '\"bikeid\"':'bikeid',\n",
        "                           '\"usertype\"':'usertype',\n",
        "                           '\"birth year\"':'birth year',\n",
        "                           '\"gender\"':'gender'},\n",
        "                  inplace=True)\n",
        "\n",
        "tripdata08.rename(columns={'\"tripduration\"':'tripduration',\n",
        "                           '\"starttime\"':'starttime', \n",
        "                           '\"stoptime\"':'stoptime', \n",
        "                           '\"start station id\"':'start station id',\n",
        "                           '\"start station name\"':'start station name',\n",
        "                           '\"start station latitude\"':'start station latitude',\n",
        "                           '\"start station longitude\"':'start station longitude',\n",
        "                           '\"end station id\"':'end station id',\n",
        "                           '\"end station name\"':'end station name',\n",
        "                           '\"end station latitude\"':'end station latitude',\n",
        "                           '\"end station longitude\"':'end station longitude',\n",
        "                           '\"bikeid\"':'bikeid',\n",
        "                           '\"usertype\"':'usertype',\n",
        "                           '\"birth year\"':'birth year',\n",
        "                           '\"gender\"':'gender'},\n",
        "                  inplace=True)\n",
        "\n",
        "tripdata09.rename(columns={'\"tripduration\"':'tripduration',\n",
        "                           '\"starttime\"':'starttime', \n",
        "                           '\"stoptime\"':'stoptime', \n",
        "                           '\"start station id\"':'start station id',\n",
        "                           '\"start station name\"':'start station name',\n",
        "                           '\"start station latitude\"':'start station latitude',\n",
        "                           '\"start station longitude\"':'start station longitude',\n",
        "                           '\"end station id\"':'end station id',\n",
        "                           '\"end station name\"':'end station name',\n",
        "                           '\"end station latitude\"':'end station latitude',\n",
        "                           '\"end station longitude\"':'end station longitude',\n",
        "                           '\"bikeid\"':'bikeid',\n",
        "                           '\"usertype\"':'usertype',\n",
        "                           '\"birth year\"':'birth year',\n",
        "                           '\"gender\"':'gender'},\n",
        "                  inplace=True)\n",
        "\n",
        "tripdata11.rename(columns={'\"tripduration\"':'tripduration',\n",
        "                           '\"starttime\"':'starttime', \n",
        "                           '\"stoptime\"':'stoptime', \n",
        "                           '\"start station id\"':'start station id',\n",
        "                           '\"start station name\"':'start station name',\n",
        "                           '\"start station latitude\"':'start station latitude',\n",
        "                           '\"start station longitude\"':'start station longitude',\n",
        "                           '\"end station id\"':'end station id',\n",
        "                           '\"end station name\"':'end station name',\n",
        "                           '\"end station latitude\"':'end station latitude',\n",
        "                           '\"end station longitude\"':'end station longitude',\n",
        "                           '\"bikeid\"':'bikeid',\n",
        "                           '\"usertype\"':'usertype',\n",
        "                           '\"birth year\"':'birth year',\n",
        "                           '\"gender\"':'gender'},\n",
        "                  inplace=True)\n"
      ],
      "execution_count": 0,
      "outputs": []
    },
    {
      "cell_type": "markdown",
      "metadata": {
        "id": "_RlVgv2uPYo_",
        "colab_type": "text"
      },
      "source": [
        "Combining all into one dataframe:"
      ]
    },
    {
      "cell_type": "code",
      "metadata": {
        "id": "dO4Sg3cYkKmR",
        "colab_type": "code",
        "outputId": "63518b46-70c9-4c50-9d86-b49e76c54efd",
        "colab": {
          "base_uri": "https://localhost:8080/",
          "height": 34
        }
      },
      "source": [
        "tripdata = tripdata01.copy()\\\n",
        ".append(tripdata02.copy(), ignore_index=True, sort=False)\\\n",
        ".append(tripdata03.copy(), ignore_index=True, sort=False)\\\n",
        ".append(tripdata04.copy(), ignore_index=True, sort=False)\\\n",
        ".append(tripdata05.copy(), ignore_index=True, sort=False)\\\n",
        ".append(tripdata06.copy(), ignore_index=True, sort=False)\\\n",
        ".append(tripdata07.copy(), ignore_index=True, sort=False)\\\n",
        ".append(tripdata08.copy(), ignore_index=True, sort=False)\\\n",
        ".append(tripdata09.copy(), ignore_index=True, sort=False)\\\n",
        ".append(tripdata10.copy(), ignore_index=True, sort=False)\\\n",
        ".append(tripdata11.copy(), ignore_index=True, sort=False)\\\n",
        ".append(tripdata12.copy(), ignore_index=True, sort=False)\\\n",
        "\n",
        "tripdata.shape"
      ],
      "execution_count": 29,
      "outputs": [
        {
          "output_type": "execute_result",
          "data": {
            "text/plain": [
              "(6862727, 15)"
            ]
          },
          "metadata": {
            "tags": []
          },
          "execution_count": 29
        }
      ]
    },
    {
      "cell_type": "code",
      "metadata": {
        "id": "atgzupS9vKLd",
        "colab_type": "code",
        "outputId": "c2e631fa-0bd8-464d-e737-3681c053cb2a",
        "colab": {
          "base_uri": "https://localhost:8080/",
          "height": 314
        }
      },
      "source": [
        "tripdata.head()"
      ],
      "execution_count": 0,
      "outputs": [
        {
          "output_type": "execute_result",
          "data": {
            "text/html": [
              "<div>\n",
              "<style scoped>\n",
              "    .dataframe tbody tr th:only-of-type {\n",
              "        vertical-align: middle;\n",
              "    }\n",
              "\n",
              "    .dataframe tbody tr th {\n",
              "        vertical-align: top;\n",
              "    }\n",
              "\n",
              "    .dataframe thead th {\n",
              "        text-align: right;\n",
              "    }\n",
              "</style>\n",
              "<table border=\"1\" class=\"dataframe\">\n",
              "  <thead>\n",
              "    <tr style=\"text-align: right;\">\n",
              "      <th></th>\n",
              "      <th>tripduration</th>\n",
              "      <th>starttime</th>\n",
              "      <th>stoptime</th>\n",
              "      <th>start station id</th>\n",
              "      <th>start station name</th>\n",
              "      <th>start station latitude</th>\n",
              "      <th>start station longitude</th>\n",
              "      <th>end station id</th>\n",
              "      <th>end station name</th>\n",
              "      <th>end station latitude</th>\n",
              "      <th>end station longitude</th>\n",
              "      <th>bikeid</th>\n",
              "      <th>usertype</th>\n",
              "      <th>birth year</th>\n",
              "      <th>gender</th>\n",
              "    </tr>\n",
              "  </thead>\n",
              "  <tbody>\n",
              "    <tr>\n",
              "      <th>0</th>\n",
              "      <td>970</td>\n",
              "      <td>2018-01-01 13:50:57.4340</td>\n",
              "      <td>2018-01-01 14:07:08.1860</td>\n",
              "      <td>72.0</td>\n",
              "      <td>W 52 St &amp; 11 Ave</td>\n",
              "      <td>40.767272</td>\n",
              "      <td>-73.993929</td>\n",
              "      <td>505.0</td>\n",
              "      <td>6 Ave &amp; W 33 St</td>\n",
              "      <td>40.749013</td>\n",
              "      <td>-73.988484</td>\n",
              "      <td>31956.0</td>\n",
              "      <td>Subscriber</td>\n",
              "      <td>1992.0</td>\n",
              "      <td>1.0</td>\n",
              "    </tr>\n",
              "    <tr>\n",
              "      <th>1</th>\n",
              "      <td>723</td>\n",
              "      <td>2018-01-01 15:33:30.1820</td>\n",
              "      <td>2018-01-01 15:45:33.3410</td>\n",
              "      <td>72.0</td>\n",
              "      <td>W 52 St &amp; 11 Ave</td>\n",
              "      <td>40.767272</td>\n",
              "      <td>-73.993929</td>\n",
              "      <td>3255.0</td>\n",
              "      <td>8 Ave &amp; W 31 St</td>\n",
              "      <td>40.750585</td>\n",
              "      <td>-73.994685</td>\n",
              "      <td>32536.0</td>\n",
              "      <td>Subscriber</td>\n",
              "      <td>1969.0</td>\n",
              "      <td>1.0</td>\n",
              "    </tr>\n",
              "    <tr>\n",
              "      <th>2</th>\n",
              "      <td>496</td>\n",
              "      <td>2018-01-01 15:39:18.3370</td>\n",
              "      <td>2018-01-01 15:47:35.1720</td>\n",
              "      <td>72.0</td>\n",
              "      <td>W 52 St &amp; 11 Ave</td>\n",
              "      <td>40.767272</td>\n",
              "      <td>-73.993929</td>\n",
              "      <td>525.0</td>\n",
              "      <td>W 34 St &amp; 11 Ave</td>\n",
              "      <td>40.755942</td>\n",
              "      <td>-74.002116</td>\n",
              "      <td>16069.0</td>\n",
              "      <td>Subscriber</td>\n",
              "      <td>1956.0</td>\n",
              "      <td>1.0</td>\n",
              "    </tr>\n",
              "    <tr>\n",
              "      <th>3</th>\n",
              "      <td>306</td>\n",
              "      <td>2018-01-01 15:40:13.3720</td>\n",
              "      <td>2018-01-01 15:45:20.1910</td>\n",
              "      <td>72.0</td>\n",
              "      <td>W 52 St &amp; 11 Ave</td>\n",
              "      <td>40.767272</td>\n",
              "      <td>-73.993929</td>\n",
              "      <td>447.0</td>\n",
              "      <td>8 Ave &amp; W 52 St</td>\n",
              "      <td>40.763707</td>\n",
              "      <td>-73.985162</td>\n",
              "      <td>31781.0</td>\n",
              "      <td>Subscriber</td>\n",
              "      <td>1974.0</td>\n",
              "      <td>1.0</td>\n",
              "    </tr>\n",
              "    <tr>\n",
              "      <th>4</th>\n",
              "      <td>306</td>\n",
              "      <td>2018-01-01 18:14:51.5680</td>\n",
              "      <td>2018-01-01 18:19:57.6420</td>\n",
              "      <td>72.0</td>\n",
              "      <td>W 52 St &amp; 11 Ave</td>\n",
              "      <td>40.767272</td>\n",
              "      <td>-73.993929</td>\n",
              "      <td>3356.0</td>\n",
              "      <td>Amsterdam Ave &amp; W 66 St</td>\n",
              "      <td>40.774667</td>\n",
              "      <td>-73.984706</td>\n",
              "      <td>30319.0</td>\n",
              "      <td>Subscriber</td>\n",
              "      <td>1992.0</td>\n",
              "      <td>1.0</td>\n",
              "    </tr>\n",
              "  </tbody>\n",
              "</table>\n",
              "</div>"
            ],
            "text/plain": [
              "   tripduration                 starttime  ... birth year  gender\n",
              "0           970  2018-01-01 13:50:57.4340  ...     1992.0     1.0\n",
              "1           723  2018-01-01 15:33:30.1820  ...     1969.0     1.0\n",
              "2           496  2018-01-01 15:39:18.3370  ...     1956.0     1.0\n",
              "3           306  2018-01-01 15:40:13.3720  ...     1974.0     1.0\n",
              "4           306  2018-01-01 18:14:51.5680  ...     1992.0     1.0\n",
              "\n",
              "[5 rows x 15 columns]"
            ]
          },
          "metadata": {
            "tags": []
          },
          "execution_count": 7
        }
      ]
    },
    {
      "cell_type": "markdown",
      "metadata": {
        "id": "1KXSoY1jnQkg",
        "colab_type": "text"
      },
      "source": [
        "All columns seem relevant, so nothing to drop.\n",
        "\n",
        "While tripduration (in seconds) is redundant information, given that it can be calculated as stoptime minus starttime, I am not dropping it, since it is convenient to have."
      ]
    },
    {
      "cell_type": "markdown",
      "metadata": {
        "id": "2Bm__xt5tIc7",
        "colab_type": "text"
      },
      "source": [
        "Checking for null values and removing those rows"
      ]
    },
    {
      "cell_type": "code",
      "metadata": {
        "id": "c9ptyzVjXaKT",
        "colab_type": "code",
        "outputId": "6d347d62-5405-4b39-f312-ac86eb50b1ec",
        "colab": {
          "base_uri": "https://localhost:8080/",
          "height": 306
        }
      },
      "source": [
        "tripdata.isnull().sum()"
      ],
      "execution_count": 28,
      "outputs": [
        {
          "output_type": "execute_result",
          "data": {
            "text/plain": [
              "tripduration                    0\n",
              "starttime                       0\n",
              "stoptime                        0\n",
              "start station id                0\n",
              "start station name              0\n",
              "start station latitude          0\n",
              "start station longitude         0\n",
              "end station id                  0\n",
              "end station name                0\n",
              "end station latitude            0\n",
              "end station longitude           0\n",
              "bikeid                          0\n",
              "usertype                        0\n",
              "birth year                      0\n",
              "gender                          0\n",
              "tripdistance               302879\n",
              "dtype: int64"
            ]
          },
          "metadata": {
            "tags": []
          },
          "execution_count": 28
        }
      ]
    },
    {
      "cell_type": "code",
      "metadata": {
        "id": "eRm1-7i-qzGL",
        "colab_type": "code",
        "outputId": "071cf719-e0eb-4bea-c8c7-c847e2bee48d",
        "colab": {
          "base_uri": "https://localhost:8080/",
          "height": 297
        }
      },
      "source": [
        "tripdata[tripdata['start station id'].isnull()].head()"
      ],
      "execution_count": 0,
      "outputs": [
        {
          "output_type": "execute_result",
          "data": {
            "text/html": [
              "<div>\n",
              "<style scoped>\n",
              "    .dataframe tbody tr th:only-of-type {\n",
              "        vertical-align: middle;\n",
              "    }\n",
              "\n",
              "    .dataframe tbody tr th {\n",
              "        vertical-align: top;\n",
              "    }\n",
              "\n",
              "    .dataframe thead th {\n",
              "        text-align: right;\n",
              "    }\n",
              "</style>\n",
              "<table border=\"1\" class=\"dataframe\">\n",
              "  <thead>\n",
              "    <tr style=\"text-align: right;\">\n",
              "      <th></th>\n",
              "      <th>tripduration</th>\n",
              "      <th>starttime</th>\n",
              "      <th>stoptime</th>\n",
              "      <th>start station id</th>\n",
              "      <th>start station name</th>\n",
              "      <th>start station latitude</th>\n",
              "      <th>start station longitude</th>\n",
              "      <th>end station id</th>\n",
              "      <th>end station name</th>\n",
              "      <th>end station latitude</th>\n",
              "      <th>end station longitude</th>\n",
              "      <th>bikeid</th>\n",
              "      <th>usertype</th>\n",
              "      <th>birth year</th>\n",
              "      <th>gender</th>\n",
              "    </tr>\n",
              "  </thead>\n",
              "  <tbody>\n",
              "    <tr>\n",
              "      <th>4037931</th>\n",
              "      <td>102</td>\n",
              "      <td>\"2018-07-07 12:</td>\n",
              "      <td>NaN</td>\n",
              "      <td>NaN</td>\n",
              "      <td>NaN</td>\n",
              "      <td>NaN</td>\n",
              "      <td>NaN</td>\n",
              "      <td>NaN</td>\n",
              "      <td>NaN</td>\n",
              "      <td>NaN</td>\n",
              "      <td>NaN</td>\n",
              "      <td>NaN</td>\n",
              "      <td>NaN</td>\n",
              "      <td>NaN</td>\n",
              "      <td>NaN</td>\n",
              "    </tr>\n",
              "    <tr>\n",
              "      <th>4071193</th>\n",
              "      <td>1293</td>\n",
              "      <td>\"2018-09-01 00:12:47.0960\"</td>\n",
              "      <td>\"2018-09-01 00:34:20.4550\"</td>\n",
              "      <td>NaN</td>\n",
              "      <td>NaN</td>\n",
              "      <td>40.842</td>\n",
              "      <td>-73.884</td>\n",
              "      <td>NaN</td>\n",
              "      <td>NaN</td>\n",
              "      <td>40.845</td>\n",
              "      <td>-73.884</td>\n",
              "      <td>34434.0</td>\n",
              "      <td>\"Customer\"</td>\n",
              "      <td>1978.0</td>\n",
              "      <td>1.0</td>\n",
              "    </tr>\n",
              "    <tr>\n",
              "      <th>4072297</th>\n",
              "      <td>758</td>\n",
              "      <td>\"2018-09-01 01:57:12.9020\"</td>\n",
              "      <td>\"2018-09-01 02:09:51.2640\"</td>\n",
              "      <td>NaN</td>\n",
              "      <td>NaN</td>\n",
              "      <td>40.863</td>\n",
              "      <td>-73.905</td>\n",
              "      <td>NaN</td>\n",
              "      <td>NaN</td>\n",
              "      <td>40.863</td>\n",
              "      <td>-73.902</td>\n",
              "      <td>34493.0</td>\n",
              "      <td>\"Customer\"</td>\n",
              "      <td>1995.0</td>\n",
              "      <td>2.0</td>\n",
              "    </tr>\n",
              "    <tr>\n",
              "      <th>4072649</th>\n",
              "      <td>170</td>\n",
              "      <td>\"2018-09-01 02:52:40.3760\"</td>\n",
              "      <td>\"2018-09-01 02:55:30.8370\"</td>\n",
              "      <td>NaN</td>\n",
              "      <td>NaN</td>\n",
              "      <td>40.842</td>\n",
              "      <td>-73.884</td>\n",
              "      <td>NaN</td>\n",
              "      <td>NaN</td>\n",
              "      <td>40.845</td>\n",
              "      <td>-73.881</td>\n",
              "      <td>34434.0</td>\n",
              "      <td>\"Subscriber\"</td>\n",
              "      <td>1993.0</td>\n",
              "      <td>2.0</td>\n",
              "    </tr>\n",
              "    <tr>\n",
              "      <th>4072681</th>\n",
              "      <td>181</td>\n",
              "      <td>\"2018-09-01 02:58:28.7370\"</td>\n",
              "      <td>\"2018-09-01 03:01:29.9370\"</td>\n",
              "      <td>NaN</td>\n",
              "      <td>NaN</td>\n",
              "      <td>40.845</td>\n",
              "      <td>-73.881</td>\n",
              "      <td>NaN</td>\n",
              "      <td>NaN</td>\n",
              "      <td>40.845</td>\n",
              "      <td>-73.881</td>\n",
              "      <td>34434.0</td>\n",
              "      <td>\"Subscriber\"</td>\n",
              "      <td>1993.0</td>\n",
              "      <td>2.0</td>\n",
              "    </tr>\n",
              "  </tbody>\n",
              "</table>\n",
              "</div>"
            ],
            "text/plain": [
              "         tripduration                   starttime  ... birth year  gender\n",
              "4037931           102             \"2018-07-07 12:  ...        NaN     NaN\n",
              "4071193          1293  \"2018-09-01 00:12:47.0960\"  ...     1978.0     1.0\n",
              "4072297           758  \"2018-09-01 01:57:12.9020\"  ...     1995.0     2.0\n",
              "4072649           170  \"2018-09-01 02:52:40.3760\"  ...     1993.0     2.0\n",
              "4072681           181  \"2018-09-01 02:58:28.7370\"  ...     1993.0     2.0\n",
              "\n",
              "[5 rows x 15 columns]"
            ]
          },
          "metadata": {
            "tags": []
          },
          "execution_count": 9
        }
      ]
    },
    {
      "cell_type": "code",
      "metadata": {
        "id": "8H5hRNPzu7pR",
        "colab_type": "code",
        "outputId": "aaa3da07-56d5-4038-8109-84c216ac94d4",
        "colab": {
          "base_uri": "https://localhost:8080/",
          "height": 34
        }
      },
      "source": [
        "tripdata.dropna(how='any', inplace=True)\n",
        "tripdata.shape"
      ],
      "execution_count": 0,
      "outputs": [
        {
          "output_type": "execute_result",
          "data": {
            "text/plain": [
              "(5120402, 15)"
            ]
          },
          "metadata": {
            "tags": []
          },
          "execution_count": 10
        }
      ]
    },
    {
      "cell_type": "markdown",
      "metadata": {
        "id": "xpY8dXnYw9gN",
        "colab_type": "text"
      },
      "source": [
        "Checking gender data and dropping rows with a value of 0 (meaning gender unknown)"
      ]
    },
    {
      "cell_type": "code",
      "metadata": {
        "id": "51IVRIq8vf1H",
        "colab_type": "code",
        "outputId": "50718c45-ddb5-4cf5-a8a5-99d9b487ac4c",
        "colab": {
          "base_uri": "https://localhost:8080/",
          "height": 141
        }
      },
      "source": [
        "print(tripdata['gender'].value_counts())\n",
        "\n",
        "indexgender2 = tripdata[tripdata['gender'] == 0].index\n",
        "\n",
        "tripdata.drop(indexgender2, inplace=True)\n",
        "\n",
        "print(tripdata['gender'].value_counts())"
      ],
      "execution_count": 0,
      "outputs": [
        {
          "output_type": "stream",
          "text": [
            "1.0    3670975\n",
            "2.0    1126291\n",
            "0.0     323136\n",
            "Name: gender, dtype: int64\n",
            "1.0    3670975\n",
            "2.0    1126291\n",
            "Name: gender, dtype: int64\n"
          ],
          "name": "stdout"
        }
      ]
    },
    {
      "cell_type": "markdown",
      "metadata": {
        "id": "hujGD67BhHGe",
        "colab_type": "text"
      },
      "source": [
        "There are not unknown or blanks for the usertype (at least after deleting gender = 0 in the last step). It shows that I have to deal with the quotation mark issue, though. But I will save this for later."
      ]
    },
    {
      "cell_type": "code",
      "metadata": {
        "id": "HGLU8KpwgS8w",
        "colab_type": "code",
        "outputId": "aa5d7970-022c-4e11-ac8a-1d102210cd90",
        "colab": {
          "base_uri": "https://localhost:8080/",
          "height": 105
        }
      },
      "source": [
        "print(tripdata['usertype'].value_counts())\n",
        "\n"
      ],
      "execution_count": 0,
      "outputs": [
        {
          "output_type": "stream",
          "text": [
            "Subscriber      2557150\n",
            "\"Subscriber\"    2120640\n",
            "\"Customer\"        68002\n",
            "Customer          51474\n",
            "Name: usertype, dtype: int64\n"
          ],
          "name": "stdout"
        }
      ]
    },
    {
      "cell_type": "markdown",
      "metadata": {
        "id": "qOEpjtsdPhm0",
        "colab_type": "text"
      },
      "source": [
        "### Calculate distance between start and stop\n",
        "Adding distance to the tripdata dataframe as 'tripdistance'"
      ]
    },
    {
      "cell_type": "code",
      "metadata": {
        "id": "5IxH_KpyQwnY",
        "colab_type": "code",
        "colab": {}
      },
      "source": [
        "import math\n",
        "\n",
        "def distance(origin, destination):\n",
        "    lat1, lon1 = origin\n",
        "    lat2, lon2 = destination\n",
        "    radius = 3959 # miles\n",
        "    \n",
        "    dlat = math.radians(lat2-lat1)\n",
        "    dlon = math.radians(lon2-lon1)\n",
        "    a = math.sin(dlat/2) ** 2 + math.cos(math.radians(lat1)) \\\n",
        "    * math.cos(math.radians(lat2)) * math.sin(dlon/2) ** 2\n",
        "    c = 2 * math.atan2(math.sqrt(a), math.sqrt(1-a))\n",
        "    d = radius * c\n",
        "    \n",
        "    return d"
      ],
      "execution_count": 0,
      "outputs": []
    },
    {
      "cell_type": "code",
      "metadata": {
        "id": "5TGH4iuOO3yH",
        "colab_type": "code",
        "outputId": "2516af6e-9bd7-43d7-a726-b56fba2dc6a6",
        "colab": {
          "base_uri": "https://localhost:8080/",
          "height": 314
        }
      },
      "source": [
        "tripdistance=[]\n",
        "\n",
        "for i in tripdata.values:\n",
        "  dist = distance((i[5],i[6]),(i[9],i[10]))\n",
        "  tripdistance.append(dist)\n",
        "\n",
        "tripdistancepd = pd.Series(tripdistance)  \n",
        "  \n",
        "tripdata['tripdistance'] = tripdistancepd\n",
        "\n",
        "tripdata.head()"
      ],
      "execution_count": 0,
      "outputs": [
        {
          "output_type": "execute_result",
          "data": {
            "text/html": [
              "<div>\n",
              "<style scoped>\n",
              "    .dataframe tbody tr th:only-of-type {\n",
              "        vertical-align: middle;\n",
              "    }\n",
              "\n",
              "    .dataframe tbody tr th {\n",
              "        vertical-align: top;\n",
              "    }\n",
              "\n",
              "    .dataframe thead th {\n",
              "        text-align: right;\n",
              "    }\n",
              "</style>\n",
              "<table border=\"1\" class=\"dataframe\">\n",
              "  <thead>\n",
              "    <tr style=\"text-align: right;\">\n",
              "      <th></th>\n",
              "      <th>tripduration</th>\n",
              "      <th>starttime</th>\n",
              "      <th>stoptime</th>\n",
              "      <th>start station id</th>\n",
              "      <th>start station name</th>\n",
              "      <th>start station latitude</th>\n",
              "      <th>start station longitude</th>\n",
              "      <th>end station id</th>\n",
              "      <th>end station name</th>\n",
              "      <th>end station latitude</th>\n",
              "      <th>end station longitude</th>\n",
              "      <th>bikeid</th>\n",
              "      <th>usertype</th>\n",
              "      <th>birth year</th>\n",
              "      <th>gender</th>\n",
              "      <th>tripdistance</th>\n",
              "    </tr>\n",
              "  </thead>\n",
              "  <tbody>\n",
              "    <tr>\n",
              "      <th>0</th>\n",
              "      <td>970</td>\n",
              "      <td>2018-01-01 13:50:57.4340</td>\n",
              "      <td>2018-01-01 14:07:08.1860</td>\n",
              "      <td>72.0</td>\n",
              "      <td>W 52 St &amp; 11 Ave</td>\n",
              "      <td>40.767272</td>\n",
              "      <td>-73.993929</td>\n",
              "      <td>505.0</td>\n",
              "      <td>6 Ave &amp; W 33 St</td>\n",
              "      <td>40.749013</td>\n",
              "      <td>-73.988484</td>\n",
              "      <td>31956.0</td>\n",
              "      <td>Subscriber</td>\n",
              "      <td>1992.0</td>\n",
              "      <td>1.0</td>\n",
              "      <td>1.293469</td>\n",
              "    </tr>\n",
              "    <tr>\n",
              "      <th>1</th>\n",
              "      <td>723</td>\n",
              "      <td>2018-01-01 15:33:30.1820</td>\n",
              "      <td>2018-01-01 15:45:33.3410</td>\n",
              "      <td>72.0</td>\n",
              "      <td>W 52 St &amp; 11 Ave</td>\n",
              "      <td>40.767272</td>\n",
              "      <td>-73.993929</td>\n",
              "      <td>3255.0</td>\n",
              "      <td>8 Ave &amp; W 31 St</td>\n",
              "      <td>40.750585</td>\n",
              "      <td>-73.994685</td>\n",
              "      <td>32536.0</td>\n",
              "      <td>Subscriber</td>\n",
              "      <td>1969.0</td>\n",
              "      <td>1.0</td>\n",
              "      <td>1.153697</td>\n",
              "    </tr>\n",
              "    <tr>\n",
              "      <th>2</th>\n",
              "      <td>496</td>\n",
              "      <td>2018-01-01 15:39:18.3370</td>\n",
              "      <td>2018-01-01 15:47:35.1720</td>\n",
              "      <td>72.0</td>\n",
              "      <td>W 52 St &amp; 11 Ave</td>\n",
              "      <td>40.767272</td>\n",
              "      <td>-73.993929</td>\n",
              "      <td>525.0</td>\n",
              "      <td>W 34 St &amp; 11 Ave</td>\n",
              "      <td>40.755942</td>\n",
              "      <td>-74.002116</td>\n",
              "      <td>16069.0</td>\n",
              "      <td>Subscriber</td>\n",
              "      <td>1956.0</td>\n",
              "      <td>1.0</td>\n",
              "      <td>0.892508</td>\n",
              "    </tr>\n",
              "    <tr>\n",
              "      <th>3</th>\n",
              "      <td>306</td>\n",
              "      <td>2018-01-01 15:40:13.3720</td>\n",
              "      <td>2018-01-01 15:45:20.1910</td>\n",
              "      <td>72.0</td>\n",
              "      <td>W 52 St &amp; 11 Ave</td>\n",
              "      <td>40.767272</td>\n",
              "      <td>-73.993929</td>\n",
              "      <td>447.0</td>\n",
              "      <td>8 Ave &amp; W 52 St</td>\n",
              "      <td>40.763707</td>\n",
              "      <td>-73.985162</td>\n",
              "      <td>31781.0</td>\n",
              "      <td>Subscriber</td>\n",
              "      <td>1974.0</td>\n",
              "      <td>1.0</td>\n",
              "      <td>0.520765</td>\n",
              "    </tr>\n",
              "    <tr>\n",
              "      <th>4</th>\n",
              "      <td>306</td>\n",
              "      <td>2018-01-01 18:14:51.5680</td>\n",
              "      <td>2018-01-01 18:19:57.6420</td>\n",
              "      <td>72.0</td>\n",
              "      <td>W 52 St &amp; 11 Ave</td>\n",
              "      <td>40.767272</td>\n",
              "      <td>-73.993929</td>\n",
              "      <td>3356.0</td>\n",
              "      <td>Amsterdam Ave &amp; W 66 St</td>\n",
              "      <td>40.774667</td>\n",
              "      <td>-73.984706</td>\n",
              "      <td>30319.0</td>\n",
              "      <td>Subscriber</td>\n",
              "      <td>1992.0</td>\n",
              "      <td>1.0</td>\n",
              "      <td>0.702879</td>\n",
              "    </tr>\n",
              "  </tbody>\n",
              "</table>\n",
              "</div>"
            ],
            "text/plain": [
              "   tripduration                 starttime  ... gender  tripdistance\n",
              "0           970  2018-01-01 13:50:57.4340  ...    1.0      1.293469\n",
              "1           723  2018-01-01 15:33:30.1820  ...    1.0      1.153697\n",
              "2           496  2018-01-01 15:39:18.3370  ...    1.0      0.892508\n",
              "3           306  2018-01-01 15:40:13.3720  ...    1.0      0.520765\n",
              "4           306  2018-01-01 18:14:51.5680  ...    1.0      0.702879\n",
              "\n",
              "[5 rows x 16 columns]"
            ]
          },
          "metadata": {
            "tags": []
          },
          "execution_count": 21
        }
      ]
    },
    {
      "cell_type": "markdown",
      "metadata": {
        "id": "6SqUh7BoQHXK",
        "colab_type": "text"
      },
      "source": [
        "### Converting starttime and stoptime to datetime format\n",
        "And adding the hour of starttime as 'starttimehour'"
      ]
    },
    {
      "cell_type": "markdown",
      "metadata": {
        "id": "MRioVEMOhq62",
        "colab_type": "text"
      },
      "source": [
        "starttime and stoptime are objects (or strings), which I need to convert to dates and times"
      ]
    },
    {
      "cell_type": "code",
      "metadata": {
        "id": "X6j1dCPmCL_X",
        "colab_type": "code",
        "outputId": "3e4ed02f-6d2a-454b-cde7-cc8653e79687",
        "colab": {
          "base_uri": "https://localhost:8080/",
          "height": 318
        }
      },
      "source": [
        "tripdata.dtypes"
      ],
      "execution_count": 0,
      "outputs": [
        {
          "output_type": "execute_result",
          "data": {
            "text/plain": [
              "tripduration                 int64\n",
              "starttime                   object\n",
              "stoptime                    object\n",
              "start station id           float64\n",
              "start station name          object\n",
              "start station latitude     float64\n",
              "start station longitude    float64\n",
              "end station id             float64\n",
              "end station name            object\n",
              "end station latitude       float64\n",
              "end station longitude      float64\n",
              "bikeid                     float64\n",
              "usertype                    object\n",
              "birth year                 float64\n",
              "gender                     float64\n",
              "tripdistance               float64\n",
              "dtype: object"
            ]
          },
          "metadata": {
            "tags": []
          },
          "execution_count": 22
        }
      ]
    },
    {
      "cell_type": "code",
      "metadata": {
        "id": "msjYq2PHCtCl",
        "colab_type": "code",
        "outputId": "f01e52ba-3020-4a5f-f1fe-f7f591996f17",
        "colab": {
          "base_uri": "https://localhost:8080/",
          "height": 650
        }
      },
      "source": [
        "tripdata['starttime'] = pd.to_datetime(tripdata.starttime)\n",
        "tripdata['stoptime'] = pd.to_datetime(tripdata.stoptime)\n",
        "tripdata['starttimehour'] = tripdata['starttime'].dt.hour\n",
        "\n",
        "tripdata.head()"
      ],
      "execution_count": 30,
      "outputs": [
        {
          "output_type": "error",
          "ename": "ValueError",
          "evalue": "ignored",
          "traceback": [
            "\u001b[0;31m---------------------------------------------------------------------------\u001b[0m",
            "\u001b[0;31mTypeError\u001b[0m                                 Traceback (most recent call last)",
            "\u001b[0;32m/usr/local/lib/python3.6/dist-packages/pandas/core/arrays/datetimes.py\u001b[0m in \u001b[0;36mobjects_to_datetime64ns\u001b[0;34m(data, dayfirst, yearfirst, utc, errors, require_iso8601, allow_object)\u001b[0m\n\u001b[1;32m   1860\u001b[0m         \u001b[0;32mtry\u001b[0m\u001b[0;34m:\u001b[0m\u001b[0;34m\u001b[0m\u001b[0;34m\u001b[0m\u001b[0m\n\u001b[0;32m-> 1861\u001b[0;31m             \u001b[0mvalues\u001b[0m\u001b[0;34m,\u001b[0m \u001b[0mtz_parsed\u001b[0m \u001b[0;34m=\u001b[0m \u001b[0mconversion\u001b[0m\u001b[0;34m.\u001b[0m\u001b[0mdatetime_to_datetime64\u001b[0m\u001b[0;34m(\u001b[0m\u001b[0mdata\u001b[0m\u001b[0;34m)\u001b[0m\u001b[0;34m\u001b[0m\u001b[0;34m\u001b[0m\u001b[0m\n\u001b[0m\u001b[1;32m   1862\u001b[0m             \u001b[0;31m# If tzaware, these values represent unix timestamps, so we\u001b[0m\u001b[0;34m\u001b[0m\u001b[0;34m\u001b[0m\u001b[0;34m\u001b[0m\u001b[0m\n",
            "\u001b[0;32mpandas/_libs/tslibs/conversion.pyx\u001b[0m in \u001b[0;36mpandas._libs.tslibs.conversion.datetime_to_datetime64\u001b[0;34m()\u001b[0m\n",
            "\u001b[0;31mTypeError\u001b[0m: Unrecognized value type: <class 'str'>",
            "\nDuring handling of the above exception, another exception occurred:\n",
            "\u001b[0;31mValueError\u001b[0m                                Traceback (most recent call last)",
            "\u001b[0;32m<ipython-input-30-04891ff8ffcb>\u001b[0m in \u001b[0;36m<module>\u001b[0;34m()\u001b[0m\n\u001b[0;32m----> 1\u001b[0;31m \u001b[0mtripdata\u001b[0m\u001b[0;34m[\u001b[0m\u001b[0;34m'starttime'\u001b[0m\u001b[0;34m]\u001b[0m \u001b[0;34m=\u001b[0m \u001b[0mpd\u001b[0m\u001b[0;34m.\u001b[0m\u001b[0mto_datetime\u001b[0m\u001b[0;34m(\u001b[0m\u001b[0mtripdata\u001b[0m\u001b[0;34m.\u001b[0m\u001b[0mstarttime\u001b[0m\u001b[0;34m)\u001b[0m\u001b[0;34m\u001b[0m\u001b[0;34m\u001b[0m\u001b[0m\n\u001b[0m\u001b[1;32m      2\u001b[0m \u001b[0mtripdata\u001b[0m\u001b[0;34m[\u001b[0m\u001b[0;34m'stoptime'\u001b[0m\u001b[0;34m]\u001b[0m \u001b[0;34m=\u001b[0m \u001b[0mpd\u001b[0m\u001b[0;34m.\u001b[0m\u001b[0mto_datetime\u001b[0m\u001b[0;34m(\u001b[0m\u001b[0mtripdata\u001b[0m\u001b[0;34m.\u001b[0m\u001b[0mstoptime\u001b[0m\u001b[0;34m)\u001b[0m\u001b[0;34m\u001b[0m\u001b[0;34m\u001b[0m\u001b[0m\n\u001b[1;32m      3\u001b[0m \u001b[0mtripdata\u001b[0m\u001b[0;34m[\u001b[0m\u001b[0;34m'starttimehour'\u001b[0m\u001b[0;34m]\u001b[0m \u001b[0;34m=\u001b[0m \u001b[0mtripdata\u001b[0m\u001b[0;34m[\u001b[0m\u001b[0;34m'starttime'\u001b[0m\u001b[0;34m]\u001b[0m\u001b[0;34m.\u001b[0m\u001b[0mdt\u001b[0m\u001b[0;34m.\u001b[0m\u001b[0mhour\u001b[0m\u001b[0;34m\u001b[0m\u001b[0;34m\u001b[0m\u001b[0m\n\u001b[1;32m      4\u001b[0m \u001b[0;34m\u001b[0m\u001b[0m\n\u001b[1;32m      5\u001b[0m \u001b[0mtripdata\u001b[0m\u001b[0;34m.\u001b[0m\u001b[0mhead\u001b[0m\u001b[0;34m(\u001b[0m\u001b[0;34m)\u001b[0m\u001b[0;34m\u001b[0m\u001b[0;34m\u001b[0m\u001b[0m\n",
            "\u001b[0;32m/usr/local/lib/python3.6/dist-packages/pandas/core/tools/datetimes.py\u001b[0m in \u001b[0;36mto_datetime\u001b[0;34m(arg, errors, dayfirst, yearfirst, utc, box, format, exact, unit, infer_datetime_format, origin, cache)\u001b[0m\n\u001b[1;32m    590\u001b[0m         \u001b[0;32melse\u001b[0m\u001b[0;34m:\u001b[0m\u001b[0;34m\u001b[0m\u001b[0;34m\u001b[0m\u001b[0m\n\u001b[1;32m    591\u001b[0m             \u001b[0;32mfrom\u001b[0m \u001b[0mpandas\u001b[0m \u001b[0;32mimport\u001b[0m \u001b[0mSeries\u001b[0m\u001b[0;34m\u001b[0m\u001b[0;34m\u001b[0m\u001b[0m\n\u001b[0;32m--> 592\u001b[0;31m             \u001b[0mvalues\u001b[0m \u001b[0;34m=\u001b[0m \u001b[0mconvert_listlike\u001b[0m\u001b[0;34m(\u001b[0m\u001b[0marg\u001b[0m\u001b[0;34m.\u001b[0m\u001b[0m_values\u001b[0m\u001b[0;34m,\u001b[0m \u001b[0;32mTrue\u001b[0m\u001b[0;34m,\u001b[0m \u001b[0mformat\u001b[0m\u001b[0;34m)\u001b[0m\u001b[0;34m\u001b[0m\u001b[0;34m\u001b[0m\u001b[0m\n\u001b[0m\u001b[1;32m    593\u001b[0m             \u001b[0mresult\u001b[0m \u001b[0;34m=\u001b[0m \u001b[0mSeries\u001b[0m\u001b[0;34m(\u001b[0m\u001b[0mvalues\u001b[0m\u001b[0;34m,\u001b[0m \u001b[0mindex\u001b[0m\u001b[0;34m=\u001b[0m\u001b[0marg\u001b[0m\u001b[0;34m.\u001b[0m\u001b[0mindex\u001b[0m\u001b[0;34m,\u001b[0m \u001b[0mname\u001b[0m\u001b[0;34m=\u001b[0m\u001b[0marg\u001b[0m\u001b[0;34m.\u001b[0m\u001b[0mname\u001b[0m\u001b[0;34m)\u001b[0m\u001b[0;34m\u001b[0m\u001b[0;34m\u001b[0m\u001b[0m\n\u001b[1;32m    594\u001b[0m     \u001b[0;32melif\u001b[0m \u001b[0misinstance\u001b[0m\u001b[0;34m(\u001b[0m\u001b[0marg\u001b[0m\u001b[0;34m,\u001b[0m \u001b[0;34m(\u001b[0m\u001b[0mABCDataFrame\u001b[0m\u001b[0;34m,\u001b[0m \u001b[0mcompat\u001b[0m\u001b[0;34m.\u001b[0m\u001b[0mMutableMapping\u001b[0m\u001b[0;34m)\u001b[0m\u001b[0;34m)\u001b[0m\u001b[0;34m:\u001b[0m\u001b[0;34m\u001b[0m\u001b[0;34m\u001b[0m\u001b[0m\n",
            "\u001b[0;32m/usr/local/lib/python3.6/dist-packages/pandas/core/tools/datetimes.py\u001b[0m in \u001b[0;36m_convert_listlike_datetimes\u001b[0;34m(arg, box, format, name, tz, unit, errors, infer_datetime_format, dayfirst, yearfirst, exact)\u001b[0m\n\u001b[1;32m    300\u001b[0m             \u001b[0marg\u001b[0m\u001b[0;34m,\u001b[0m \u001b[0mdayfirst\u001b[0m\u001b[0;34m=\u001b[0m\u001b[0mdayfirst\u001b[0m\u001b[0;34m,\u001b[0m \u001b[0myearfirst\u001b[0m\u001b[0;34m=\u001b[0m\u001b[0myearfirst\u001b[0m\u001b[0;34m,\u001b[0m\u001b[0;34m\u001b[0m\u001b[0;34m\u001b[0m\u001b[0m\n\u001b[1;32m    301\u001b[0m             \u001b[0mutc\u001b[0m\u001b[0;34m=\u001b[0m\u001b[0mutc\u001b[0m\u001b[0;34m,\u001b[0m \u001b[0merrors\u001b[0m\u001b[0;34m=\u001b[0m\u001b[0merrors\u001b[0m\u001b[0;34m,\u001b[0m \u001b[0mrequire_iso8601\u001b[0m\u001b[0;34m=\u001b[0m\u001b[0mrequire_iso8601\u001b[0m\u001b[0;34m,\u001b[0m\u001b[0;34m\u001b[0m\u001b[0;34m\u001b[0m\u001b[0m\n\u001b[0;32m--> 302\u001b[0;31m             allow_object=True)\n\u001b[0m\u001b[1;32m    303\u001b[0m \u001b[0;34m\u001b[0m\u001b[0m\n\u001b[1;32m    304\u001b[0m     \u001b[0;32mif\u001b[0m \u001b[0mtz_parsed\u001b[0m \u001b[0;32mis\u001b[0m \u001b[0;32mnot\u001b[0m \u001b[0;32mNone\u001b[0m\u001b[0;34m:\u001b[0m\u001b[0;34m\u001b[0m\u001b[0;34m\u001b[0m\u001b[0m\n",
            "\u001b[0;32m/usr/local/lib/python3.6/dist-packages/pandas/core/arrays/datetimes.py\u001b[0m in \u001b[0;36mobjects_to_datetime64ns\u001b[0;34m(data, dayfirst, yearfirst, utc, errors, require_iso8601, allow_object)\u001b[0m\n\u001b[1;32m   1864\u001b[0m             \u001b[0;32mreturn\u001b[0m \u001b[0mvalues\u001b[0m\u001b[0;34m.\u001b[0m\u001b[0mview\u001b[0m\u001b[0;34m(\u001b[0m\u001b[0;34m'i8'\u001b[0m\u001b[0;34m)\u001b[0m\u001b[0;34m,\u001b[0m \u001b[0mtz_parsed\u001b[0m\u001b[0;34m\u001b[0m\u001b[0;34m\u001b[0m\u001b[0m\n\u001b[1;32m   1865\u001b[0m         \u001b[0;32mexcept\u001b[0m \u001b[0;34m(\u001b[0m\u001b[0mValueError\u001b[0m\u001b[0;34m,\u001b[0m \u001b[0mTypeError\u001b[0m\u001b[0;34m)\u001b[0m\u001b[0;34m:\u001b[0m\u001b[0;34m\u001b[0m\u001b[0;34m\u001b[0m\u001b[0m\n\u001b[0;32m-> 1866\u001b[0;31m             \u001b[0;32mraise\u001b[0m \u001b[0me\u001b[0m\u001b[0;34m\u001b[0m\u001b[0;34m\u001b[0m\u001b[0m\n\u001b[0m\u001b[1;32m   1867\u001b[0m \u001b[0;34m\u001b[0m\u001b[0m\n\u001b[1;32m   1868\u001b[0m     \u001b[0;32mif\u001b[0m \u001b[0mtz_parsed\u001b[0m \u001b[0;32mis\u001b[0m \u001b[0;32mnot\u001b[0m \u001b[0;32mNone\u001b[0m\u001b[0;34m:\u001b[0m\u001b[0;34m\u001b[0m\u001b[0;34m\u001b[0m\u001b[0m\n",
            "\u001b[0;32m/usr/local/lib/python3.6/dist-packages/pandas/core/arrays/datetimes.py\u001b[0m in \u001b[0;36mobjects_to_datetime64ns\u001b[0;34m(data, dayfirst, yearfirst, utc, errors, require_iso8601, allow_object)\u001b[0m\n\u001b[1;32m   1855\u001b[0m             \u001b[0mdayfirst\u001b[0m\u001b[0;34m=\u001b[0m\u001b[0mdayfirst\u001b[0m\u001b[0;34m,\u001b[0m\u001b[0;34m\u001b[0m\u001b[0;34m\u001b[0m\u001b[0m\n\u001b[1;32m   1856\u001b[0m             \u001b[0myearfirst\u001b[0m\u001b[0;34m=\u001b[0m\u001b[0myearfirst\u001b[0m\u001b[0;34m,\u001b[0m\u001b[0;34m\u001b[0m\u001b[0;34m\u001b[0m\u001b[0m\n\u001b[0;32m-> 1857\u001b[0;31m             \u001b[0mrequire_iso8601\u001b[0m\u001b[0;34m=\u001b[0m\u001b[0mrequire_iso8601\u001b[0m\u001b[0;34m\u001b[0m\u001b[0;34m\u001b[0m\u001b[0m\n\u001b[0m\u001b[1;32m   1858\u001b[0m         )\n\u001b[1;32m   1859\u001b[0m     \u001b[0;32mexcept\u001b[0m \u001b[0mValueError\u001b[0m \u001b[0;32mas\u001b[0m \u001b[0me\u001b[0m\u001b[0;34m:\u001b[0m\u001b[0;34m\u001b[0m\u001b[0;34m\u001b[0m\u001b[0m\n",
            "\u001b[0;32mpandas/_libs/tslib.pyx\u001b[0m in \u001b[0;36mpandas._libs.tslib.array_to_datetime\u001b[0;34m()\u001b[0m\n",
            "\u001b[0;32mpandas/_libs/tslib.pyx\u001b[0m in \u001b[0;36mpandas._libs.tslib.array_to_datetime\u001b[0;34m()\u001b[0m\n",
            "\u001b[0;32mpandas/_libs/tslib.pyx\u001b[0m in \u001b[0;36mpandas._libs.tslib.array_to_datetime_object\u001b[0;34m()\u001b[0m\n",
            "\u001b[0;32mpandas/_libs/tslib.pyx\u001b[0m in \u001b[0;36mpandas._libs.tslib.array_to_datetime_object\u001b[0;34m()\u001b[0m\n",
            "\u001b[0;32mpandas/_libs/tslibs/parsing.pyx\u001b[0m in \u001b[0;36mpandas._libs.tslibs.parsing.parse_datetime_string\u001b[0;34m()\u001b[0m\n",
            "\u001b[0;32m/usr/local/lib/python3.6/dist-packages/dateutil/parser.py\u001b[0m in \u001b[0;36mparse\u001b[0;34m(timestr, parserinfo, **kwargs)\u001b[0m\n\u001b[1;32m   1162\u001b[0m         \u001b[0;32mreturn\u001b[0m \u001b[0mparser\u001b[0m\u001b[0;34m(\u001b[0m\u001b[0mparserinfo\u001b[0m\u001b[0;34m)\u001b[0m\u001b[0;34m.\u001b[0m\u001b[0mparse\u001b[0m\u001b[0;34m(\u001b[0m\u001b[0mtimestr\u001b[0m\u001b[0;34m,\u001b[0m \u001b[0;34m**\u001b[0m\u001b[0mkwargs\u001b[0m\u001b[0;34m)\u001b[0m\u001b[0;34m\u001b[0m\u001b[0;34m\u001b[0m\u001b[0m\n\u001b[1;32m   1163\u001b[0m     \u001b[0;32melse\u001b[0m\u001b[0;34m:\u001b[0m\u001b[0;34m\u001b[0m\u001b[0;34m\u001b[0m\u001b[0m\n\u001b[0;32m-> 1164\u001b[0;31m         \u001b[0;32mreturn\u001b[0m \u001b[0mDEFAULTPARSER\u001b[0m\u001b[0;34m.\u001b[0m\u001b[0mparse\u001b[0m\u001b[0;34m(\u001b[0m\u001b[0mtimestr\u001b[0m\u001b[0;34m,\u001b[0m \u001b[0;34m**\u001b[0m\u001b[0mkwargs\u001b[0m\u001b[0;34m)\u001b[0m\u001b[0;34m\u001b[0m\u001b[0;34m\u001b[0m\u001b[0m\n\u001b[0m\u001b[1;32m   1165\u001b[0m \u001b[0;34m\u001b[0m\u001b[0m\n\u001b[1;32m   1166\u001b[0m \u001b[0;34m\u001b[0m\u001b[0m\n",
            "\u001b[0;32m/usr/local/lib/python3.6/dist-packages/dateutil/parser.py\u001b[0m in \u001b[0;36mparse\u001b[0;34m(self, timestr, default, ignoretz, tzinfos, **kwargs)\u001b[0m\n\u001b[1;32m    553\u001b[0m \u001b[0;34m\u001b[0m\u001b[0m\n\u001b[1;32m    554\u001b[0m         \u001b[0;32mif\u001b[0m \u001b[0mres\u001b[0m \u001b[0;32mis\u001b[0m \u001b[0;32mNone\u001b[0m\u001b[0;34m:\u001b[0m\u001b[0;34m\u001b[0m\u001b[0;34m\u001b[0m\u001b[0m\n\u001b[0;32m--> 555\u001b[0;31m             \u001b[0;32mraise\u001b[0m \u001b[0mValueError\u001b[0m\u001b[0;34m(\u001b[0m\u001b[0;34m\"Unknown string format\"\u001b[0m\u001b[0;34m)\u001b[0m\u001b[0;34m\u001b[0m\u001b[0;34m\u001b[0m\u001b[0m\n\u001b[0m\u001b[1;32m    556\u001b[0m \u001b[0;34m\u001b[0m\u001b[0m\n\u001b[1;32m    557\u001b[0m         \u001b[0;32mif\u001b[0m \u001b[0mlen\u001b[0m\u001b[0;34m(\u001b[0m\u001b[0mres\u001b[0m\u001b[0;34m)\u001b[0m \u001b[0;34m==\u001b[0m \u001b[0;36m0\u001b[0m\u001b[0;34m:\u001b[0m\u001b[0;34m\u001b[0m\u001b[0;34m\u001b[0m\u001b[0m\n",
            "\u001b[0;31mValueError\u001b[0m: Unknown string format"
          ]
        }
      ]
    },
    {
      "cell_type": "code",
      "metadata": {
        "id": "QfXccq7NRPiI",
        "colab_type": "code",
        "colab": {}
      },
      "source": [
        "tripdata.dtypes"
      ],
      "execution_count": 0,
      "outputs": []
    },
    {
      "cell_type": "markdown",
      "metadata": {
        "id": "FzqqvUDgRHoH",
        "colab_type": "text"
      },
      "source": [
        "###..."
      ]
    },
    {
      "cell_type": "code",
      "metadata": {
        "id": "lpNzz25fcqUB",
        "colab_type": "code",
        "colab": {}
      },
      "source": [
        "starttime_series = tripdata['starttime']\n",
        "\n",
        "starttime_series"
      ],
      "execution_count": 0,
      "outputs": []
    },
    {
      "cell_type": "markdown",
      "metadata": {
        "id": "bMh0IPQOROrw",
        "colab_type": "text"
      },
      "source": [
        ""
      ]
    },
    {
      "cell_type": "code",
      "metadata": {
        "id": "UXIvJgoFFuYW",
        "colab_type": "code",
        "colab": {}
      },
      "source": [
        "df = tripdata1[['gender', 'birth year']]\n",
        "age = 2019 - df2['birth year']\n",
        "print(age.head())\n"
      ],
      "execution_count": 0,
      "outputs": []
    },
    {
      "cell_type": "code",
      "metadata": {
        "id": "TsTc0Qd7a7xo",
        "colab_type": "code",
        "colab": {}
      },
      "source": [
        "df"
      ],
      "execution_count": 0,
      "outputs": []
    },
    {
      "cell_type": "code",
      "metadata": {
        "id": "K3RiZPk2ENIX",
        "colab_type": "code",
        "colab": {}
      },
      "source": [
        "df['birth year'].value_counts().sort_index().tail(50)"
      ],
      "execution_count": 0,
      "outputs": []
    },
    {
      "cell_type": "code",
      "metadata": {
        "id": "DKzlBMhD1hoh",
        "colab_type": "code",
        "colab": {
          "base_uri": "https://localhost:8080/",
          "height": 854
        },
        "outputId": "053fa1da-438f-4804-b611-158592792dc0"
      },
      "source": [
        "print(tripdata12.head())\n",
        "\n",
        "tripdataM = tripdata12[tripdata12['gender' == 1]]\n",
        "\n",
        "plt.style.use('fivethirtyeight')\n",
        "plt.rcParams['figure.figsize'] = (6, 4)\n",
        "plt.rcParams['font.size'] = 14\n",
        "plt.plot(tripdataM['birth year'].value_counts().sort_index());"
      ],
      "execution_count": 34,
      "outputs": [
        {
          "output_type": "stream",
          "text": [
            "   tripduration                 starttime  ... birth year  gender\n",
            "0           689  2018-12-01 00:00:04.3020  ...       1989       1\n",
            "1           204  2018-12-01 00:00:05.5330  ...       1966       1\n",
            "2           316  2018-12-01 00:00:10.2330  ...       1984       1\n",
            "3           726  2018-12-01 00:00:21.9570  ...       1983       1\n",
            "4           397  2018-12-01 00:00:29.6320  ...       1976       1\n",
            "\n",
            "[5 rows x 15 columns]\n"
          ],
          "name": "stdout"
        },
        {
          "output_type": "error",
          "ename": "KeyError",
          "evalue": "ignored",
          "traceback": [
            "\u001b[0;31m---------------------------------------------------------------------------\u001b[0m",
            "\u001b[0;31mKeyError\u001b[0m                                  Traceback (most recent call last)",
            "\u001b[0;32m/usr/local/lib/python3.6/dist-packages/pandas/core/indexes/base.py\u001b[0m in \u001b[0;36mget_loc\u001b[0;34m(self, key, method, tolerance)\u001b[0m\n\u001b[1;32m   2656\u001b[0m             \u001b[0;32mtry\u001b[0m\u001b[0;34m:\u001b[0m\u001b[0;34m\u001b[0m\u001b[0;34m\u001b[0m\u001b[0m\n\u001b[0;32m-> 2657\u001b[0;31m                 \u001b[0;32mreturn\u001b[0m \u001b[0mself\u001b[0m\u001b[0;34m.\u001b[0m\u001b[0m_engine\u001b[0m\u001b[0;34m.\u001b[0m\u001b[0mget_loc\u001b[0m\u001b[0;34m(\u001b[0m\u001b[0mkey\u001b[0m\u001b[0;34m)\u001b[0m\u001b[0;34m\u001b[0m\u001b[0;34m\u001b[0m\u001b[0m\n\u001b[0m\u001b[1;32m   2658\u001b[0m             \u001b[0;32mexcept\u001b[0m \u001b[0mKeyError\u001b[0m\u001b[0;34m:\u001b[0m\u001b[0;34m\u001b[0m\u001b[0;34m\u001b[0m\u001b[0m\n",
            "\u001b[0;32mpandas/_libs/index.pyx\u001b[0m in \u001b[0;36mpandas._libs.index.IndexEngine.get_loc\u001b[0;34m()\u001b[0m\n",
            "\u001b[0;32mpandas/_libs/index.pyx\u001b[0m in \u001b[0;36mpandas._libs.index.IndexEngine.get_loc\u001b[0;34m()\u001b[0m\n",
            "\u001b[0;32mpandas/_libs/hashtable_class_helper.pxi\u001b[0m in \u001b[0;36mpandas._libs.hashtable.PyObjectHashTable.get_item\u001b[0;34m()\u001b[0m\n",
            "\u001b[0;32mpandas/_libs/hashtable_class_helper.pxi\u001b[0m in \u001b[0;36mpandas._libs.hashtable.PyObjectHashTable.get_item\u001b[0;34m()\u001b[0m\n",
            "\u001b[0;31mKeyError\u001b[0m: False",
            "\nDuring handling of the above exception, another exception occurred:\n",
            "\u001b[0;31mKeyError\u001b[0m                                  Traceback (most recent call last)",
            "\u001b[0;32m<ipython-input-34-7cf11c8db66b>\u001b[0m in \u001b[0;36m<module>\u001b[0;34m()\u001b[0m\n\u001b[1;32m      1\u001b[0m \u001b[0mprint\u001b[0m\u001b[0;34m(\u001b[0m\u001b[0mtripdata12\u001b[0m\u001b[0;34m.\u001b[0m\u001b[0mhead\u001b[0m\u001b[0;34m(\u001b[0m\u001b[0;34m)\u001b[0m\u001b[0;34m)\u001b[0m\u001b[0;34m\u001b[0m\u001b[0;34m\u001b[0m\u001b[0m\n\u001b[1;32m      2\u001b[0m \u001b[0;34m\u001b[0m\u001b[0m\n\u001b[0;32m----> 3\u001b[0;31m \u001b[0mtripdataM\u001b[0m \u001b[0;34m=\u001b[0m \u001b[0mtripdata12\u001b[0m\u001b[0;34m[\u001b[0m\u001b[0mtripdata12\u001b[0m\u001b[0;34m[\u001b[0m\u001b[0;34m'gender'\u001b[0m \u001b[0;34m==\u001b[0m \u001b[0;36m1\u001b[0m\u001b[0;34m]\u001b[0m\u001b[0;34m]\u001b[0m\u001b[0;34m\u001b[0m\u001b[0;34m\u001b[0m\u001b[0m\n\u001b[0m\u001b[1;32m      4\u001b[0m \u001b[0;34m\u001b[0m\u001b[0m\n\u001b[1;32m      5\u001b[0m \u001b[0mplt\u001b[0m\u001b[0;34m.\u001b[0m\u001b[0mstyle\u001b[0m\u001b[0;34m.\u001b[0m\u001b[0muse\u001b[0m\u001b[0;34m(\u001b[0m\u001b[0;34m'fivethirtyeight'\u001b[0m\u001b[0;34m)\u001b[0m\u001b[0;34m\u001b[0m\u001b[0;34m\u001b[0m\u001b[0m\n",
            "\u001b[0;32m/usr/local/lib/python3.6/dist-packages/pandas/core/frame.py\u001b[0m in \u001b[0;36m__getitem__\u001b[0;34m(self, key)\u001b[0m\n\u001b[1;32m   2925\u001b[0m             \u001b[0;32mif\u001b[0m \u001b[0mself\u001b[0m\u001b[0;34m.\u001b[0m\u001b[0mcolumns\u001b[0m\u001b[0;34m.\u001b[0m\u001b[0mnlevels\u001b[0m \u001b[0;34m>\u001b[0m \u001b[0;36m1\u001b[0m\u001b[0;34m:\u001b[0m\u001b[0;34m\u001b[0m\u001b[0;34m\u001b[0m\u001b[0m\n\u001b[1;32m   2926\u001b[0m                 \u001b[0;32mreturn\u001b[0m \u001b[0mself\u001b[0m\u001b[0;34m.\u001b[0m\u001b[0m_getitem_multilevel\u001b[0m\u001b[0;34m(\u001b[0m\u001b[0mkey\u001b[0m\u001b[0;34m)\u001b[0m\u001b[0;34m\u001b[0m\u001b[0;34m\u001b[0m\u001b[0m\n\u001b[0;32m-> 2927\u001b[0;31m             \u001b[0mindexer\u001b[0m \u001b[0;34m=\u001b[0m \u001b[0mself\u001b[0m\u001b[0;34m.\u001b[0m\u001b[0mcolumns\u001b[0m\u001b[0;34m.\u001b[0m\u001b[0mget_loc\u001b[0m\u001b[0;34m(\u001b[0m\u001b[0mkey\u001b[0m\u001b[0;34m)\u001b[0m\u001b[0;34m\u001b[0m\u001b[0;34m\u001b[0m\u001b[0m\n\u001b[0m\u001b[1;32m   2928\u001b[0m             \u001b[0;32mif\u001b[0m \u001b[0mis_integer\u001b[0m\u001b[0;34m(\u001b[0m\u001b[0mindexer\u001b[0m\u001b[0;34m)\u001b[0m\u001b[0;34m:\u001b[0m\u001b[0;34m\u001b[0m\u001b[0;34m\u001b[0m\u001b[0m\n\u001b[1;32m   2929\u001b[0m                 \u001b[0mindexer\u001b[0m \u001b[0;34m=\u001b[0m \u001b[0;34m[\u001b[0m\u001b[0mindexer\u001b[0m\u001b[0;34m]\u001b[0m\u001b[0;34m\u001b[0m\u001b[0;34m\u001b[0m\u001b[0m\n",
            "\u001b[0;32m/usr/local/lib/python3.6/dist-packages/pandas/core/indexes/base.py\u001b[0m in \u001b[0;36mget_loc\u001b[0;34m(self, key, method, tolerance)\u001b[0m\n\u001b[1;32m   2657\u001b[0m                 \u001b[0;32mreturn\u001b[0m \u001b[0mself\u001b[0m\u001b[0;34m.\u001b[0m\u001b[0m_engine\u001b[0m\u001b[0;34m.\u001b[0m\u001b[0mget_loc\u001b[0m\u001b[0;34m(\u001b[0m\u001b[0mkey\u001b[0m\u001b[0;34m)\u001b[0m\u001b[0;34m\u001b[0m\u001b[0;34m\u001b[0m\u001b[0m\n\u001b[1;32m   2658\u001b[0m             \u001b[0;32mexcept\u001b[0m \u001b[0mKeyError\u001b[0m\u001b[0;34m:\u001b[0m\u001b[0;34m\u001b[0m\u001b[0;34m\u001b[0m\u001b[0m\n\u001b[0;32m-> 2659\u001b[0;31m                 \u001b[0;32mreturn\u001b[0m \u001b[0mself\u001b[0m\u001b[0;34m.\u001b[0m\u001b[0m_engine\u001b[0m\u001b[0;34m.\u001b[0m\u001b[0mget_loc\u001b[0m\u001b[0;34m(\u001b[0m\u001b[0mself\u001b[0m\u001b[0;34m.\u001b[0m\u001b[0m_maybe_cast_indexer\u001b[0m\u001b[0;34m(\u001b[0m\u001b[0mkey\u001b[0m\u001b[0;34m)\u001b[0m\u001b[0;34m)\u001b[0m\u001b[0;34m\u001b[0m\u001b[0;34m\u001b[0m\u001b[0m\n\u001b[0m\u001b[1;32m   2660\u001b[0m         \u001b[0mindexer\u001b[0m \u001b[0;34m=\u001b[0m \u001b[0mself\u001b[0m\u001b[0;34m.\u001b[0m\u001b[0mget_indexer\u001b[0m\u001b[0;34m(\u001b[0m\u001b[0;34m[\u001b[0m\u001b[0mkey\u001b[0m\u001b[0;34m]\u001b[0m\u001b[0;34m,\u001b[0m \u001b[0mmethod\u001b[0m\u001b[0;34m=\u001b[0m\u001b[0mmethod\u001b[0m\u001b[0;34m,\u001b[0m \u001b[0mtolerance\u001b[0m\u001b[0;34m=\u001b[0m\u001b[0mtolerance\u001b[0m\u001b[0;34m)\u001b[0m\u001b[0;34m\u001b[0m\u001b[0;34m\u001b[0m\u001b[0m\n\u001b[1;32m   2661\u001b[0m         \u001b[0;32mif\u001b[0m \u001b[0mindexer\u001b[0m\u001b[0;34m.\u001b[0m\u001b[0mndim\u001b[0m \u001b[0;34m>\u001b[0m \u001b[0;36m1\u001b[0m \u001b[0;32mor\u001b[0m \u001b[0mindexer\u001b[0m\u001b[0;34m.\u001b[0m\u001b[0msize\u001b[0m \u001b[0;34m>\u001b[0m \u001b[0;36m1\u001b[0m\u001b[0;34m:\u001b[0m\u001b[0;34m\u001b[0m\u001b[0;34m\u001b[0m\u001b[0m\n",
            "\u001b[0;32mpandas/_libs/index.pyx\u001b[0m in \u001b[0;36mpandas._libs.index.IndexEngine.get_loc\u001b[0;34m()\u001b[0m\n",
            "\u001b[0;32mpandas/_libs/index.pyx\u001b[0m in \u001b[0;36mpandas._libs.index.IndexEngine.get_loc\u001b[0;34m()\u001b[0m\n",
            "\u001b[0;32mpandas/_libs/hashtable_class_helper.pxi\u001b[0m in \u001b[0;36mpandas._libs.hashtable.PyObjectHashTable.get_item\u001b[0;34m()\u001b[0m\n",
            "\u001b[0;32mpandas/_libs/hashtable_class_helper.pxi\u001b[0m in \u001b[0;36mpandas._libs.hashtable.PyObjectHashTable.get_item\u001b[0;34m()\u001b[0m\n",
            "\u001b[0;31mKeyError\u001b[0m: False"
          ]
        }
      ]
    },
    {
      "cell_type": "code",
      "metadata": {
        "id": "opw0x4yJ149J",
        "colab_type": "code",
        "colab": {}
      },
      "source": [
        "df.columns"
      ],
      "execution_count": 0,
      "outputs": []
    },
    {
      "cell_type": "code",
      "metadata": {
        "id": "x1dyvGSU2HqZ",
        "colab_type": "code",
        "colab": {
          "base_uri": "https://localhost:8080/",
          "height": 299
        },
        "outputId": "d956807f-9142-4b5c-f35b-51215a7bf44b"
      },
      "source": [
        "  tripdata['start station name'].value_counts().plot()"
      ],
      "execution_count": 33,
      "outputs": [
        {
          "output_type": "execute_result",
          "data": {
            "text/plain": [
              "<matplotlib.axes._subplots.AxesSubplot at 0x7f420773bba8>"
            ]
          },
          "metadata": {
            "tags": []
          },
          "execution_count": 33
        },
        {
          "output_type": "display_data",
          "data": {
            "image/png": "[encoded data removed]",
            "text/plain": [
              "<Figure size 432x288 with 1 Axes>"
            ]
          },
          "metadata": {
            "tags": []
          }
        }
      ]
    }
  ]
}